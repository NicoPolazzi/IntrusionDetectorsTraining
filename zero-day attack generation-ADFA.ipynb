{
 "cells": [
  {
   "cell_type": "markdown",
   "id": "75f93bdb",
   "metadata": {},
   "source": [
    "# conda activate attacchi\n",
    "\n",
    "# set kernel \"attacchi\" on jupiter"
   ]
  },
  {
   "cell_type": "markdown",
   "id": "mobile-church",
   "metadata": {},
   "source": [
    "## Objective\n",
    "\n",
    "The objective is the generation of the effects of zero-days cyber-attacks, or of failure, in order to enrich a dataset originally comprised of normal data (or: heavily unbalanced towards normal data). Theoretically, if the characterization of attacks effect (or: failure effects) is complete,   zero-days (or: unexpected failures) at test time will lead to a system behaviour that has already been observed at training time. Clearly, if the above is achieved, the dangerousness of unknown attacks or failures is greatly reduced, because their effect is equivalent to the effect of known attacks.\n",
    "\n",
    "## Approach\n",
    "\n",
    "The underlying assumption is that attacks and failures have a visible effect on the target system i.e., it is possible to categorize them as anomalies by looking at the data collected. This assumption is at the basis of any work on anomaly detection, so we deem it is reasonable.\n",
    "\n",
    "Broadly, the approach is to model the normal data in the hyperplane to discover the manifold of normal data, and, from this, identify the data points outside the manifold. Any anomaly will be described by such data points: attacks and failures, both known and unknown, are described by such data points.\n",
    "\n",
    "Consequently, if the data points in the two manifolds of normal and anomalous data can be identified, we can train an Intrusion Detection System in a fully-supervised fashion and without the risk of unknowns.\n",
    "\n",
    "More practically, we aim to generate Out Of Distribution (OOD) samples from the manifold of normal data, and perform OOD detection. "
   ]
  },
  {
   "cell_type": "markdown",
   "id": "opposite-nylon",
   "metadata": {},
   "source": [
    "### Supervised algorithm and all attacks are known at training time\n",
    "\n",
    "\n",
    "The following are the  results from supervised algorithms, with all attacks known at training time. These are provided for reference, it is expected to get the best results.\n",
    "\n",
    "|datasetName | classifierName\t| trainItems|\ttestItems | features |   tp | tn | fp | fn | accuracy | mcc | \n",
    "|---|---|---|---|---|---|---|---|---|---|---|\n",
    "|ADFANet| XGBoost|\t66003|\t66003|\t3|\t\t20400\t|45537|\t47|\t19|\t 0.9988|0.997|\n",
    "|ADFANet|Random Forest |66003|\t66003|\t3 |20394| 45541| 46| 22| 0.9989| 0.997|\n"
   ]
  },
  {
   "cell_type": "markdown",
   "id": "pleasant-andorra",
   "metadata": {},
   "source": [
    "### Results with unsupervised and semi-supervised algorithms (no labels in the training set), all attacks are known at training time\n",
    "\n",
    "The following are the unsupervised results, with contamination known\n",
    "\n",
    "|datasetName | classifierName\t| trainItems|\ttestItems | features |   tp | tn | fp | fn | accuracy | mcc | \n",
    "|---|---|---|---|---|---|---|---|---|---|---|\n",
    "|ADFANet| IsolationForest|\t66003|\t66003|\t3|8461 | 43123| 2531| 11888| 0.7815| 0.4466|\n",
    "|ADFANet| COPOD|\t66003|\t66003|\t3|8495| 41165| 4417| 11926| 0.752| 0.3718|\n",
    "|ADFANet| COPOD|\t66003|\t66003|\t3|16440| 32709| 3654| 0| 0.930| 0.857|\n",
    "|ADFANet| CBLOF|\t66003|\t66003|\t3|18354| 44100| 1482| 2067| 0.946| 0.873|\n",
    "\n",
    "We test semi-supervised one-class SVM:\n",
    "\n",
    "|datasetName | classifierName\t| trainItems|\ttestItems | features |   tp | tn | fp | fn | accuracy | mcc | \n",
    "|---|---|---|---|---|---|---|---|---|---|---|\n",
    "|ADFANet|One-Class SVM|\t66003|\t66003|\t3|15189 | 27755 | 17751 | 5308 | 0.6506 | 0.32478|\n",
    "\n",
    "\n",
    "We also test autoencoders, with contamination known\n",
    "\n",
    "|datasetName | classifierName\t| trainItems|\ttestItems | features |   tp | tn | fp | fn | accuracy | mcc | \n",
    "|---|---|---|---|---|---|---|---|---|---|---|\n",
    "|ADFANet| DeepSVDD|\t66003|\t66003|\t3|93| 45578| 4| 20328| 0.6919| 0.05389|\n",
    "|ADFANet| AutoEncoder|\t66003|\t66003|\t3|15692| 43277| 2305| 4729| 0.89|0.745|\n",
    "|ADFANet| VAE|\t66003|\t66003|\t3|16073| 41290| 4292| 4348| 0.869| 0.693|\n"
   ]
  },
  {
   "cell_type": "markdown",
   "id": "qualified-mentor",
   "metadata": {},
   "source": [
    "### Results with unsupervised and semi-supervised algorithms and no attacks in the training set\n",
    "\n",
    "This corresponds to the case in which I do not have attacks, so I cannot make any good assumption on the attack characterization. It is the extreme case of having a partial characterization of the attacks.\n",
    "\n",
    "The following are the unsupervised results, with contamination set to 0\n",
    "\n",
    "|datasetName | classifierName\t| trainItems|\ttestItems | features |   tp | tn | fp | fn | accuracy | mcc | \n",
    "|---|---|---|---|---|---|---|---|---|---|---|\n",
    "|ADFANet| IsolationForest|\t45463|\t66003|\t3|20421| 43014| 2568| 0| 0.96 | 0.915|\n",
    "|ADFANet| COPOD|\t45463|\t66003|\t3|8495| 43186| 2396| 11926| 0.783| 0.4525|\n",
    "|ADFANet| CBLOF|\t45463|\t66003|\t3| 20268|  44013| 1569| 153| 0.9739| 0.941|\n",
    "\n",
    "\n",
    "We test semi-supervised one-class SVM:\n",
    "\n",
    "|datasetName | classifierName\t| trainItems|\ttestItems | features |   tp | tn | fp | fn | accuracy | mcc | \n",
    "|---|---|---|---|---|---|---|---|---|---|---|\n",
    "|ADFANet|One-Class SVM|\t66003|\t66003|\t3|15189 | 27755 | 17751 | 5308 | 0.6506 | 0.32478|\n",
    "\n",
    "\n",
    "We also test autoencoders, with contamination set to 0\n",
    "\n",
    "|datasetName | classifierName\t| trainItems|\ttestItems | features |   tp | tn | fp | fn | accuracy | mcc | \n",
    "|---|---|---|---|---|---|---|---|---|---|---|\n",
    "|ADFANet| DeepSVDD|\t45463|\t66003|\t3|8470| 41266| 4316| 11951| 0.75 |0.374|\n",
    "|ADFANet| AutoEncoder|\t45463|\t66003|\t3|17456| 43094| 2444| 3009| 0.9173|0.8055|\n",
    "|ADFANet| VAE|\t45463|\t66003|\t3|16481| 43157| 2381| 3984| 0.90356| 0.7709|\n"
   ]
  },
  {
   "cell_type": "markdown",
   "id": "cross-thumbnail",
   "metadata": {},
   "source": [
    "### Results with generation of the effects of unknowns to enrich the training set\n",
    "\n",
    "\n",
    "\n",
    "- eGAN - ALAD (generates anomaly)\n",
    "\n",
    "- ARN (generates anomaly)\n",
    "\n",
    "\n",
    "\n",
    "|datasetName | augmentation|classifier| trainItems|\ttestItems | features |   tp | tn | fp | fn | accuracy | mcc | \n",
    "|---|---|---|---|---|---|---|---|---|---|---|---|\n",
    "|ADFANet|ALAD-35 epoch w=0.1| ALAD|45463|46833|3|9494|43612|1879|1878|0.9339|0.7935|\n",
    "|ADFANet|ALAD-35 epoch w=0.1|XGBoost|45463|46833|3|0| 45506| 0| 20497| 0.6894| 0.0|\n",
    "|ADFANet|ALAD-35 epoch w=0.1|Isolation Forest|45463|46833|3|8543| 43098| 2408| 11954| 0.7824| 0.4526|\n",
    "|ADFANet|ARN| ARN|45463|46833|1119|20394| 35841| 577| 87| 0.988| 0.9749|\n",
    "|ADFANet|ARN|XGBoost|45463|46833|1119|0| 36418| 0| 20481| 0.640| 0.0|\n",
    "|ADFANet|ARN|Isolation Forest|45463|46833|1119|8594| 35362| 1056| 11887| 0.77| 0.499|\n",
    "\n"
   ]
  },
  {
   "cell_type": "markdown",
   "id": "c2d45354",
   "metadata": {},
   "source": [
    "# We start!"
   ]
  },
  {
   "cell_type": "code",
   "execution_count": 13,
   "id": "3a201678",
   "metadata": {},
   "outputs": [],
   "source": [
    "import sys"
   ]
  },
  {
   "cell_type": "code",
   "execution_count": 14,
   "id": "6ffb8912",
   "metadata": {},
   "outputs": [],
   "source": [
    "#!conda  install  --yes --prefix {sys.prefix} -c conda-forge numpy==1.20\n",
    "#!conda  install  --yes --prefix {sys.prefix} -c conda-forge pandas\n",
    "#!conda  install  --yes --prefix {sys.prefix} -c conda-forge matplotlib\n",
    "#!conda  install  --yes --prefix {sys.prefix} -c conda-forge xgboost\n",
    "#!conda  install  --yes --prefix {sys.prefix} -c conda-forge scikit-learn\n",
    "\n",
    "#SOME SOLUTIONS REQUIRE TENSORFLOW 1.5, WHILE ONE PYOD AUTOENCODER WANTS 2.0. THIS CREATES SOME COMPATIBILITY PROBLEMS.\n",
    "#!conda  install  --yes --prefix {sys.prefix} -c conda-forge tensorflow==2\n",
    "#!conda  install  --yes --prefix {sys.prefix} -c conda-forge keras\n",
    "#!conda  install  --yes --prefix {sys.prefix} -c conda-forge  copulas\n",
    "#!conda  install  --yes --prefix {sys.prefix} -c conda-forge mkl-service"
   ]
  },
  {
   "cell_type": "code",
   "execution_count": 15,
   "id": "503dc91d",
   "metadata": {},
   "outputs": [],
   "source": [
    "#!{sys.executable} -m pip install pyod\n",
    "#!{sys.executable} -m pip install seaborn\n",
    "#!{sys.executable} -m pip install tabgan\n",
    "#!{sys.executable} -m pip install sbo"
   ]
  },
  {
   "cell_type": "code",
   "execution_count": 114,
   "id": "f611f867",
   "metadata": {},
   "outputs": [
    {
     "name": "stdout",
     "output_type": "stream",
     "text": [
      "2.1.0\n"
     ]
    }
   ],
   "source": [
    "import tensorflow as tf\n",
    "print(tf.__version__)"
   ]
  },
  {
   "cell_type": "code",
   "execution_count": 115,
   "id": "b2cca96a",
   "metadata": {},
   "outputs": [],
   "source": [
    "import sys, os, time, glob, joblib, random, itertools, PIL\n",
    "import pandas as pd\n",
    "import numpy as np\n",
    "from xgboost import XGBClassifier\n",
    "import xgboost as xgb\n",
    "from sklearn.model_selection import train_test_split\n",
    "from sklearn.ensemble import RandomForestClassifier"
   ]
  },
  {
   "cell_type": "code",
   "execution_count": 116,
   "id": "2aa3e2f3",
   "metadata": {},
   "outputs": [],
   "source": [
    "from sklearn.metrics import accuracy_score, confusion_matrix, matthews_corrcoef\n",
    "from sklearn.manifold import TSNE\n",
    "from sklearn.ensemble import IsolationForest\n",
    "from sklearn import ensemble\n",
    "from sklearn import metrics\n",
    "from sklearn.datasets import make_moons\n",
    "import matplotlib.pyplot as plt\n",
    "from matplotlib import cm\n",
    "from time import time"
   ]
  },
  {
   "cell_type": "code",
   "execution_count": 117,
   "id": "f05e5c9b",
   "metadata": {},
   "outputs": [],
   "source": [
    "import tensorflow as tf"
   ]
  },
  {
   "cell_type": "code",
   "execution_count": 118,
   "id": "listed-balance",
   "metadata": {},
   "outputs": [],
   "source": [
    "#import seaborn as sns\n",
    "#import pylab as plt\n",
    "from IPython import display\n",
    "from itertools import combinations\n",
    "#necessary to avoid growth of jupyter\n",
    "import warnings\n",
    "warnings.filterwarnings('ignore')\n",
    "\n",
    "%matplotlib inline"
   ]
  },
  {
   "cell_type": "code",
   "execution_count": 119,
   "id": "8e8debd2",
   "metadata": {},
   "outputs": [],
   "source": [
    "PATH='/home/polazzi/datasets/adfa/'\n",
    "adfa_competitors=open(PATH+\"adfa_competitors.csv\", \"a\")"
   ]
  },
  {
   "cell_type": "code",
   "execution_count": 26,
   "id": "ccfeb192",
   "metadata": {},
   "outputs": [],
   "source": [
    "adfa_competitors.write('\\ndataset, '\n",
    "                       + 'generation technique, '\n",
    "                       + 'classifier, '\n",
    "                       + 'train-test split, ' \n",
    "                       + '# normal in training set, '\n",
    "                       + '# original attack in training set, '\n",
    "                       + '# generated attack in training set, '\n",
    "                       + '# normal in test set, ' \n",
    "                       + '# attacks in test set, '\n",
    "                       + ' features (columns) - may be 1-hotted, '\n",
    "                       + ' generated attack is manipulated, '\n",
    "                       + 'tp, tn, fp, fn, accuracy, mcc \\n')\n",
    "adfa_competitors.flush()"
   ]
  },
  {
   "cell_type": "code",
   "execution_count": 120,
   "id": "extreme-sense",
   "metadata": {},
   "outputs": [],
   "source": [
    "# scale and move the coordinates so they fit [0; 1] range\n",
    "def scale_to_01_range(x):\n",
    "    # compute the distribution range\n",
    "    value_range = (np.max(x) - np.min(x))\n",
    "\n",
    "    # move the distribution so that it starts from zero\n",
    "    # by extracting the minimal value from all its values\n",
    "    starts_from_zero = x - np.min(x)\n",
    "\n",
    "    # make the distribution fit [0; 1] by dividing by its range\n",
    "    if(value_range!=0):\n",
    "        return starts_from_zero / value_range\n",
    "    else:\n",
    "        return starts_from_zero\n"
   ]
  },
  {
   "cell_type": "markdown",
   "id": "better-input",
   "metadata": {},
   "source": [
    "#### We start with ADFANet.\n",
    "\n",
    "First, we create the test and train split\n",
    "\n",
    "In particolare si rimuove la colonna contenente le etichette e si normalizza con i valori [0,1]."
   ]
  },
  {
   "cell_type": "code",
   "execution_count": 121,
   "id": "ultimate-input",
   "metadata": {},
   "outputs": [
    {
     "name": "stdout",
     "output_type": "stream",
     "text": [
      "['1b' 'normal' 'neptune' 'other' 'portsweep' 'mailbomb']\n",
      "<class 'pandas.core.frame.DataFrame'>\n",
      "RangeIndex: 132006 entries, 0 to 132005\n",
      "Data columns (total 4 columns):\n",
      " #   Column    Non-Null Count   Dtype \n",
      "---  ------    --------------   ----- \n",
      " 0   packets   132006 non-null  int64 \n",
      " 1   bytes     132006 non-null  int64 \n",
      " 2   Duration  132006 non-null  int64 \n",
      " 3   label     132006 non-null  object\n",
      "dtypes: int64(3), object(1)\n",
      "memory usage: 4.0+ MB\n",
      "[1 0]\n"
     ]
    }
   ],
   "source": [
    "ADFANet=pd.read_csv(PATH+\"ADFANet_Shuffled_LabelOK.csv\")\n",
    "ADFANet_Y=ADFANet[['label']]\n",
    "print(ADFANet_Y['label'].unique())\n",
    "ADFANet.info()\n",
    "\n",
    "ADFANet_X=ADFANet.drop('label', axis=1, inplace=False)\n",
    "\n",
    "ADFANet_Y.loc[ADFANet_Y['label']=='normal', 'label']=0\n",
    "ADFANet_Y.loc[ADFANet_Y['label']!=0, 'label']=1\n",
    "ADFANet_Y=ADFANet_Y.astype(int)\n",
    "print(ADFANet_Y['label'].unique())"
   ]
  },
  {
   "cell_type": "code",
   "execution_count": 122,
   "id": "f570f7ba",
   "metadata": {},
   "outputs": [
    {
     "data": {
      "text/html": [
       "<div>\n",
       "<style scoped>\n",
       "    .dataframe tbody tr th:only-of-type {\n",
       "        vertical-align: middle;\n",
       "    }\n",
       "\n",
       "    .dataframe tbody tr th {\n",
       "        vertical-align: top;\n",
       "    }\n",
       "\n",
       "    .dataframe thead th {\n",
       "        text-align: right;\n",
       "    }\n",
       "</style>\n",
       "<table border=\"1\" class=\"dataframe\">\n",
       "  <thead>\n",
       "    <tr style=\"text-align: right;\">\n",
       "      <th></th>\n",
       "      <th>packets</th>\n",
       "      <th>bytes</th>\n",
       "      <th>Duration</th>\n",
       "    </tr>\n",
       "  </thead>\n",
       "  <tbody>\n",
       "    <tr>\n",
       "      <th>0</th>\n",
       "      <td>13</td>\n",
       "      <td>13005</td>\n",
       "      <td>0</td>\n",
       "    </tr>\n",
       "    <tr>\n",
       "      <th>1</th>\n",
       "      <td>11</td>\n",
       "      <td>1292</td>\n",
       "      <td>0</td>\n",
       "    </tr>\n",
       "    <tr>\n",
       "      <th>2</th>\n",
       "      <td>271</td>\n",
       "      <td>13193</td>\n",
       "      <td>13</td>\n",
       "    </tr>\n",
       "    <tr>\n",
       "      <th>3</th>\n",
       "      <td>1</td>\n",
       "      <td>142</td>\n",
       "      <td>0</td>\n",
       "    </tr>\n",
       "    <tr>\n",
       "      <th>4</th>\n",
       "      <td>1</td>\n",
       "      <td>160</td>\n",
       "      <td>0</td>\n",
       "    </tr>\n",
       "    <tr>\n",
       "      <th>...</th>\n",
       "      <td>...</td>\n",
       "      <td>...</td>\n",
       "      <td>...</td>\n",
       "    </tr>\n",
       "    <tr>\n",
       "      <th>132001</th>\n",
       "      <td>1</td>\n",
       "      <td>115</td>\n",
       "      <td>0</td>\n",
       "    </tr>\n",
       "    <tr>\n",
       "      <th>132002</th>\n",
       "      <td>1</td>\n",
       "      <td>143</td>\n",
       "      <td>0</td>\n",
       "    </tr>\n",
       "    <tr>\n",
       "      <th>132003</th>\n",
       "      <td>1</td>\n",
       "      <td>160</td>\n",
       "      <td>0</td>\n",
       "    </tr>\n",
       "    <tr>\n",
       "      <th>132004</th>\n",
       "      <td>1</td>\n",
       "      <td>144</td>\n",
       "      <td>0</td>\n",
       "    </tr>\n",
       "    <tr>\n",
       "      <th>132005</th>\n",
       "      <td>1</td>\n",
       "      <td>136</td>\n",
       "      <td>0</td>\n",
       "    </tr>\n",
       "  </tbody>\n",
       "</table>\n",
       "<p>132006 rows × 3 columns</p>\n",
       "</div>"
      ],
      "text/plain": [
       "        packets  bytes  Duration\n",
       "0            13  13005         0\n",
       "1            11   1292         0\n",
       "2           271  13193        13\n",
       "3             1    142         0\n",
       "4             1    160         0\n",
       "...         ...    ...       ...\n",
       "132001        1    115         0\n",
       "132002        1    143         0\n",
       "132003        1    160         0\n",
       "132004        1    144         0\n",
       "132005        1    136         0\n",
       "\n",
       "[132006 rows x 3 columns]"
      ]
     },
     "execution_count": 122,
     "metadata": {},
     "output_type": "execute_result"
    }
   ],
   "source": [
    "ADFANet_X"
   ]
  },
  {
   "cell_type": "code",
   "execution_count": 123,
   "id": "d6c1759b",
   "metadata": {},
   "outputs": [],
   "source": [
    "#ADFANet_X[\"packets\"]=ADFANet_X[\"packets\"].astype(\"category\")"
   ]
  },
  {
   "cell_type": "markdown",
   "id": "9815578d",
   "metadata": {},
   "source": [
    "Si creano i dataset di train e di test con una partizione 60:40."
   ]
  },
  {
   "cell_type": "code",
   "execution_count": 124,
   "id": "democratic-belize",
   "metadata": {},
   "outputs": [
    {
     "name": "stdout",
     "output_type": "stream",
     "text": [
      "train_size, test_size\n"
     ]
    },
    {
     "data": {
      "text/plain": [
       "((79203, 3), (52803, 3))"
      ]
     },
     "execution_count": 124,
     "metadata": {},
     "output_type": "execute_result"
    }
   ],
   "source": [
    "ADFANet_train_X, ADFANet_test_X, ADFANet_train_Y, ADFANet_test_Y = train_test_split(ADFANet_X,ADFANet_Y, \n",
    "                                                                                    test_size=0.4, \n",
    "                                                                                    shuffle=True)\n",
    "\n",
    "#contamination= (np.sum(ADFANet_train_Y.to_numpy(), axis=0)/ADFANet_train_Y.to_numpy().shape[0])[0]\n",
    "\n",
    "#print(\"train size, test size, contamination in train\")\n",
    "print('train_size, test_size')\n",
    "ADFANet_train_X.shape, ADFANet_test_X.shape #,contamination"
   ]
  },
  {
   "cell_type": "markdown",
   "id": "separate-duncan",
   "metadata": {},
   "source": [
    "We try xgboost in a fully supervised setting"
   ]
  },
  {
   "cell_type": "code",
   "execution_count": 26,
   "id": "flexible-lease",
   "metadata": {},
   "outputs": [],
   "source": [
    "xb=xgb.XGBClassifier(objective='binary:logistic', use_label_encoder=False)\n",
    "xb.fit(ADFANet_train_X, ADFANet_train_Y)\n",
    "predicted=xb.predict(ADFANet_test_X)"
   ]
  },
  {
   "cell_type": "code",
   "execution_count": 27,
   "id": "juvenile-thursday",
   "metadata": {},
   "outputs": [
    {
     "name": "stdout",
     "output_type": "stream",
     "text": [
      "tp, tn, fp, fn, accuracy, mcc:\n"
     ]
    },
    {
     "data": {
      "text/plain": [
       "(16427, 36320, 41, 15, 0.9989394541976782, 0.997528715968531)"
      ]
     },
     "execution_count": 27,
     "metadata": {},
     "output_type": "execute_result"
    }
   ],
   "source": [
    "accuracy=accuracy_score(ADFANet_test_Y, predicted)\n",
    "tn, fp, fn, tp = confusion_matrix(ADFANet_test_Y, predicted).ravel()\n",
    "mcc=matthews_corrcoef(ADFANet_test_Y, predicted)\n",
    "print(\"tp, tn, fp, fn, accuracy, mcc:\")\n",
    "tp, tn, fp, fn, accuracy, mcc"
   ]
  },
  {
   "cell_type": "code",
   "execution_count": 34,
   "id": "e375247b",
   "metadata": {},
   "outputs": [],
   "source": [
    "normal_in_training_set=np.unique(ADFANet_train_Y, return_counts=True)[1][0]\n",
    "original_attack_in_training_set=np.unique(ADFANet_train_Y, return_counts=True)[1][1]\n",
    "normal_in_test_set=np.unique(ADFANet_test_Y, return_counts=True)[1][0]\n",
    "attacks_in_test_set=np.unique(ADFANet_test_Y, return_counts=True)[1][1]\n",
    "\n",
    "adfa_competitors.write('ADFANet, '\n",
    "                       + 'all known, '\n",
    "                       + 'XGBoost, '\n",
    "                       + '0.6--0.4, '\n",
    "                       + str(normal_in_training_set) + ', '\n",
    "                       + str(original_attack_in_training_set) + ', ' + '0, '\n",
    "                       + str(normal_in_test_set) + ', '\n",
    "                       + str(attacks_in_test_set) + ', '\n",
    "                       + str(ADFANet_test_X.shape[1]) + ', '\n",
    "                       + ' NO GENERATED ATTACK, '\n",
    "                       + f'{tp}, {tn}, {fp}, {fn}, {accuracy:.4f}, {mcc:.4f}\\n')\n",
    "adfa_competitors.flush()"
   ]
  },
  {
   "cell_type": "markdown",
   "id": "nominated-treasurer",
   "metadata": {},
   "source": [
    "**Now we suppose we do not have knowledge of the attacks. That is, there are no attacks at all in the training set.**\n",
    "\n",
    "contamination is set to 0 (or default if 0 is not accepted), attacks are removed from the training set\n",
    "\n",
    "ALL THE ATTACKS ARE IN THE TEST SET NOW"
   ]
  },
  {
   "cell_type": "code",
   "execution_count": 125,
   "id": "current-permission",
   "metadata": {},
   "outputs": [],
   "source": [
    "contamination=0.0\n",
    "trainingX_Y=pd.concat([ADFANet_train_X, ADFANet_train_Y], axis=1)\n",
    "ADFANet_train_X_no_attack=trainingX_Y[trainingX_Y.label == 0]"
   ]
  },
  {
   "cell_type": "code",
   "execution_count": 126,
   "id": "painful-cocktail",
   "metadata": {},
   "outputs": [
    {
     "data": {
      "text/plain": [
       "(54682, 3)"
      ]
     },
     "execution_count": 126,
     "metadata": {},
     "output_type": "execute_result"
    }
   ],
   "source": [
    "ADFANet_train_X_no_attack=ADFANet_train_X_no_attack.drop(['label'], axis=1)\n",
    "ADFANet_train_X_no_attack.shape"
   ]
  },
  {
   "cell_type": "markdown",
   "id": "e6381faf",
   "metadata": {},
   "source": [
    "Quindi abbiamo ottenuto il dataset senza attacchi: *ADFANet_train_X_no_attack*"
   ]
  },
  {
   "cell_type": "code",
   "execution_count": 127,
   "id": "5d6368fe",
   "metadata": {},
   "outputs": [],
   "source": [
    "#test set with all attack\n",
    "missing_attacks=trainingX_Y[trainingX_Y['label']!=0]\n",
    "missing_attacks=missing_attacks.drop(['label'], axis=1)\n",
    "frames=[ADFANet_test_X, missing_attacks]\n",
    "ADFANet_test_X=pd.concat(frames).to_numpy()\n",
    "ADFANet_test_Y=np.vstack((ADFANet_test_Y.to_numpy(), np.ones((missing_attacks.to_numpy().shape[0], 1))))"
   ]
  },
  {
   "cell_type": "code",
   "execution_count": 128,
   "id": "4209ef08",
   "metadata": {},
   "outputs": [
    {
     "data": {
      "text/plain": [
       "((77324, 1), (77324, 3))"
      ]
     },
     "execution_count": 128,
     "metadata": {},
     "output_type": "execute_result"
    }
   ],
   "source": [
    "ADFANet_test_Y.shape,ADFANet_test_X.shape"
   ]
  },
  {
   "cell_type": "code",
   "execution_count": 129,
   "id": "2656142d",
   "metadata": {},
   "outputs": [
    {
     "data": {
      "text/html": [
       "<div>\n",
       "<style scoped>\n",
       "    .dataframe tbody tr th:only-of-type {\n",
       "        vertical-align: middle;\n",
       "    }\n",
       "\n",
       "    .dataframe tbody tr th {\n",
       "        vertical-align: top;\n",
       "    }\n",
       "\n",
       "    .dataframe thead th {\n",
       "        text-align: right;\n",
       "    }\n",
       "</style>\n",
       "<table border=\"1\" class=\"dataframe\">\n",
       "  <thead>\n",
       "    <tr style=\"text-align: right;\">\n",
       "      <th></th>\n",
       "      <th>packets</th>\n",
       "      <th>bytes</th>\n",
       "      <th>Duration</th>\n",
       "      <th>label</th>\n",
       "    </tr>\n",
       "  </thead>\n",
       "  <tbody>\n",
       "    <tr>\n",
       "      <th>18897</th>\n",
       "      <td>1</td>\n",
       "      <td>160</td>\n",
       "      <td>0</td>\n",
       "      <td>0</td>\n",
       "    </tr>\n",
       "    <tr>\n",
       "      <th>116347</th>\n",
       "      <td>6</td>\n",
       "      <td>2877</td>\n",
       "      <td>0</td>\n",
       "      <td>1</td>\n",
       "    </tr>\n",
       "    <tr>\n",
       "      <th>85241</th>\n",
       "      <td>1</td>\n",
       "      <td>160</td>\n",
       "      <td>17</td>\n",
       "      <td>0</td>\n",
       "    </tr>\n",
       "    <tr>\n",
       "      <th>31513</th>\n",
       "      <td>1</td>\n",
       "      <td>154</td>\n",
       "      <td>0</td>\n",
       "      <td>0</td>\n",
       "    </tr>\n",
       "    <tr>\n",
       "      <th>121596</th>\n",
       "      <td>1</td>\n",
       "      <td>162</td>\n",
       "      <td>0</td>\n",
       "      <td>0</td>\n",
       "    </tr>\n",
       "    <tr>\n",
       "      <th>...</th>\n",
       "      <td>...</td>\n",
       "      <td>...</td>\n",
       "      <td>...</td>\n",
       "      <td>...</td>\n",
       "    </tr>\n",
       "    <tr>\n",
       "      <th>41797</th>\n",
       "      <td>1</td>\n",
       "      <td>46</td>\n",
       "      <td>0</td>\n",
       "      <td>1</td>\n",
       "    </tr>\n",
       "    <tr>\n",
       "      <th>97299</th>\n",
       "      <td>1</td>\n",
       "      <td>161</td>\n",
       "      <td>0</td>\n",
       "      <td>0</td>\n",
       "    </tr>\n",
       "    <tr>\n",
       "      <th>24042</th>\n",
       "      <td>1</td>\n",
       "      <td>46</td>\n",
       "      <td>0</td>\n",
       "      <td>1</td>\n",
       "    </tr>\n",
       "    <tr>\n",
       "      <th>114728</th>\n",
       "      <td>1</td>\n",
       "      <td>46</td>\n",
       "      <td>0</td>\n",
       "      <td>1</td>\n",
       "    </tr>\n",
       "    <tr>\n",
       "      <th>91364</th>\n",
       "      <td>1</td>\n",
       "      <td>162</td>\n",
       "      <td>0</td>\n",
       "      <td>0</td>\n",
       "    </tr>\n",
       "  </tbody>\n",
       "</table>\n",
       "<p>79203 rows × 4 columns</p>\n",
       "</div>"
      ],
      "text/plain": [
       "        packets  bytes  Duration  label\n",
       "18897         1    160         0      0\n",
       "116347        6   2877         0      1\n",
       "85241         1    160        17      0\n",
       "31513         1    154         0      0\n",
       "121596        1    162         0      0\n",
       "...         ...    ...       ...    ...\n",
       "41797         1     46         0      1\n",
       "97299         1    161         0      0\n",
       "24042         1     46         0      1\n",
       "114728        1     46         0      1\n",
       "91364         1    162         0      0\n",
       "\n",
       "[79203 rows x 4 columns]"
      ]
     },
     "execution_count": 129,
     "metadata": {},
     "output_type": "execute_result"
    }
   ],
   "source": [
    "trainingX_Y"
   ]
  },
  {
   "cell_type": "code",
   "execution_count": 130,
   "id": "c431523f",
   "metadata": {},
   "outputs": [],
   "source": [
    "np.save(PATH+'/train_X_no_attack', ADFANet_train_X_no_attack )\n",
    "np.save(PATH+'/test_X', ADFANet_test_X)\n",
    "np.save(PATH+'/test_Y', ADFANet_test_Y )"
   ]
  },
  {
   "cell_type": "markdown",
   "id": "cooked-protest",
   "metadata": {},
   "source": [
    "**let's generate some anomalies**"
   ]
  },
  {
   "cell_type": "markdown",
   "id": "8f1ddd82",
   "metadata": {},
   "source": [
    "### ALAD\n",
    "We test now **ALAD (eGAN)**\n",
    "\n",
    "See folder \"eGAN/Efficient-GAN-Anomaly-Detection\" for information on running and for the eGAN anomaly detection. We instead execute XGBoost, Isolation Forest and CBLOF on the generated data.\n",
    "\n",
    "Generated data is located in: '/home/polazzi/eGAN/Efficient-GAN-Anomaly-Detection/data/adfa_generated_attacks.npy'"
   ]
  },
  {
   "cell_type": "code",
   "execution_count": 140,
   "id": "d1652fed",
   "metadata": {},
   "outputs": [],
   "source": [
    "generated_attacks=np.load('/home/polazzi/eGAN/Efficient-GAN-Anomaly-Detection/data/adfa_generated_attacks.npy')"
   ]
  },
  {
   "cell_type": "code",
   "execution_count": 141,
   "id": "14f8054a",
   "metadata": {},
   "outputs": [],
   "source": [
    "ADFANet_train_X_no_attack=np.load(PATH+'/train_X_no_attack.npy')\n",
    "ADFANet_test_X=np.load(PATH+'/test_X.npy')\n",
    "ADFANet_test_Y=np.load(PATH+'/test_Y.npy')"
   ]
  },
  {
   "cell_type": "markdown",
   "id": "9f98d615",
   "metadata": {},
   "source": [
    "First, we use the generated attacks without any kind of optimization or improvement of data quality."
   ]
  },
  {
   "cell_type": "code",
   "execution_count": 142,
   "id": "0d8994de",
   "metadata": {},
   "outputs": [
    {
     "data": {
      "text/plain": [
       "(50000, 3)"
      ]
     },
     "execution_count": 142,
     "metadata": {},
     "output_type": "execute_result"
    }
   ],
   "source": [
    "X_ood=generated_attacks\n",
    "X_ood.shape"
   ]
  },
  {
   "cell_type": "code",
   "execution_count": 143,
   "id": "daf45e84",
   "metadata": {},
   "outputs": [],
   "source": [
    "ADFANet_train_X__no_attacks_augmented=np.vstack((ADFANet_train_X_no_attack, X_ood))\n",
    "ADFANet_train_Y__no_attacks_augmented=np.vstack((np.zeros((ADFANet_train_X_no_attack.shape[0],1)),\n",
    "                                                 np.ones((X_ood.shape[0], 1))))"
   ]
  },
  {
   "cell_type": "code",
   "execution_count": 144,
   "id": "60d434ad",
   "metadata": {},
   "outputs": [
    {
     "data": {
      "text/plain": [
       "array([[ 1.00000000e+00,  1.60000000e+02,  0.00000000e+00],\n",
       "       [ 1.00000000e+00,  1.60000000e+02,  1.70000000e+01],\n",
       "       [ 1.00000000e+00,  1.54000000e+02,  0.00000000e+00],\n",
       "       ...,\n",
       "       [ 9.35663044e-01,  3.36778412e+01, -1.36466458e-01],\n",
       "       [ 4.02902484e-01,  2.82565460e+01, -1.42906338e-01],\n",
       "       [ 6.67986989e-01,  2.80663109e+01,  3.75470012e-01]])"
      ]
     },
     "execution_count": 144,
     "metadata": {},
     "output_type": "execute_result"
    }
   ],
   "source": [
    "ADFANet_train_X__no_attacks_augmented"
   ]
  },
  {
   "cell_type": "code",
   "execution_count": 145,
   "id": "a9614557",
   "metadata": {},
   "outputs": [
    {
     "data": {
      "text/plain": [
       "array([[1.],\n",
       "       [0.],\n",
       "       [0.],\n",
       "       ...,\n",
       "       [1.],\n",
       "       [1.],\n",
       "       [1.]])"
      ]
     },
     "execution_count": 145,
     "metadata": {},
     "output_type": "execute_result"
    }
   ],
   "source": [
    "ADFANet_test_Y"
   ]
  },
  {
   "cell_type": "code",
   "execution_count": 146,
   "id": "4c62975a",
   "metadata": {},
   "outputs": [
    {
     "name": "stdout",
     "output_type": "stream",
     "text": [
      "tp, tn, fp, fn, accuracy, mcc:\n"
     ]
    },
    {
     "data": {
      "text/plain": [
       "(0, 36363, 0, 40961, 0.4702679633748901, 0.0)"
      ]
     },
     "execution_count": 146,
     "metadata": {},
     "output_type": "execute_result"
    }
   ],
   "source": [
    "from sklearn.model_selection import GridSearchCV\n",
    "xb=xgb.XGBClassifier(objective='binary:logistic', use_label_encoder=False)\n",
    "\n",
    "xb.fit(ADFANet_train_X__no_attacks_augmented, ADFANet_train_Y__no_attacks_augmented)\n",
    "predicted=xb.predict(ADFANet_test_X)\n",
    "\n",
    "accuracy=accuracy_score(ADFANet_test_Y, predicted)\n",
    "tn, fp, fn, tp = confusion_matrix(ADFANet_test_Y, predicted).ravel()\n",
    "mcc=matthews_corrcoef(ADFANet_test_Y, predicted)\n",
    "\n",
    "print(\"tp, tn, fp, fn, accuracy, mcc:\")\n",
    "tp, tn, fp, fn, accuracy, mcc"
   ]
  },
  {
   "cell_type": "code",
   "execution_count": 101,
   "id": "1f0743ac",
   "metadata": {},
   "outputs": [],
   "source": [
    "normal_in_training_set=np.unique(ADFANet_train_X_no_attack.shape[0])\n",
    "original_attack_in_training_set=0\n",
    "normal_in_test_set=np.unique(ADFANet_test_Y, return_counts=True)[1][0]\n",
    "attacks_in_test_set=np.unique(ADFANet_test_Y, return_counts=True)[1][1]\n",
    "generated_attacks=X_ood.shape[0]\n",
    "\n",
    "adfa_competitors.write('ADFANet, '\n",
    "                       + 'ALAD (eGAN) '\n",
    "                       + '- 500 epochs, '\n",
    "                       + 'XGBoost, '\n",
    "                       + '0.6--0.4, '\n",
    "                       + str(normal_in_training_set) + ', '\n",
    "                       + str(original_attack_in_training_set) + ', '\n",
    "                       + str(generated_attacks) + ', '\n",
    "                       + str(normal_in_test_set) + ', '\n",
    "                       + str(attacks_in_test_set) + ', '\n",
    "                       + str(ADFANet_test_X.shape[1]) + ', '\n",
    "                       + ' NO AUGMENTATION, '\n",
    "                       + f'{tp}, {tn}, {fp}, {fn}, {accuracy:.4f}, {mcc:.4f}\\n')\n",
    "adfa_competitors.flush()"
   ]
  },
  {
   "cell_type": "code",
   "execution_count": 147,
   "id": "a152e475",
   "metadata": {},
   "outputs": [
    {
     "data": {
      "text/plain": [
       "(0.16666666666666669, (10936, 3))"
      ]
     },
     "execution_count": 147,
     "metadata": {},
     "output_type": "execute_result"
    }
   ],
   "source": [
    "contamination=0.2\n",
    "\n",
    "total=int(ADFANet_train_X_no_attack.shape[0]*contamination)\n",
    "if(total > X_ood.shape[0]):\n",
    "    print(\"contamination is larger than the available attacks.\")\n",
    "    sys.exit(0)\n",
    "\n",
    "idx = np.random.randint(X_ood.shape[0], size=total)\n",
    "attacks=X_ood[idx,:]\n",
    "ADFANet_train_X__no_attacks_augmented=np.vstack((ADFANet_train_X_no_attack, attacks))\n",
    "ADFANet_train_Y__no_attacks_augmented=np.vstack((np.zeros((ADFANet_train_X_no_attack.shape[0], 1)),\n",
    "                                                 np.ones((attacks.shape[0],1))))\n",
    "                                                 \n",
    "contamination=contamination/(1+contamination)\n",
    "                                                 \n",
    "contamination, attacks.shape"
   ]
  },
  {
   "cell_type": "code",
   "execution_count": 41,
   "id": "f208659d",
   "metadata": {},
   "outputs": [
    {
     "name": "stdout",
     "output_type": "stream",
     "text": [
      "Testing with a depth of 8.0: 17148, 34393, 1923, 23813, 0.6669642972682687, 0.42332806072739787\n",
      "Testing with a depth of 9.0: 40961, 34376, 1940, 0, 0.9748955057779158, 0.9506709741496733\n",
      "Testing with a depth of 10.0: 40961, 34309, 2007, 0, 0.9740284948949881, 0.9490033203440049\n",
      "Testing with a depth of 10.0: 40961, 34309, 2007, 0, 0.9740284948949881, 0.9490033203440049\n",
      "Testing with a depth of 10.0: 40961, 34309, 2007, 0, 0.9740284948949881, 0.9490033203440049\n"
     ]
    }
   ],
   "source": [
    "#Ciclo per testare quale è la scelta migliore dell'argomento max_samples\n",
    "\"\"\"\n",
    "max_samples_i = 200\n",
    "for i in range(5):\n",
    "    isol_1=IsolationForest(n_estimators=800,\n",
    "                         max_samples=max_samples_i,\n",
    "                         contamination=contamination,\n",
    "                         max_features=1.0,\n",
    "                         bootstrap=False,\n",
    "                         n_jobs=12,warm_start=False).fit(ADFANet_train_X__no_attacks_augmented)\n",
    "\n",
    "    predicted=isol_1.predict(ADFANet_test_X)\n",
    "\n",
    "    Y=ADFANet_test_Y\n",
    "    predicted=np.where(predicted==-1, 1, 0)\n",
    "    accuracy=accuracy_score(Y, predicted)\n",
    "    mcc=matthews_corrcoef(Y, predicted)\n",
    "    tn, fp, fn, tp= confusion_matrix(Y, predicted).ravel()\n",
    "\n",
    "    print(f'Testing with a depth of {np.ceil(np.log2(max_samples_i))}: {tp}, {tn}, {fp}, {fn}, {accuracy}, {mcc}')\n",
    "    max_samples_i +=200\n",
    "\"\"\""
   ]
  },
  {
   "cell_type": "code",
   "execution_count": 148,
   "id": "d7e3411a",
   "metadata": {},
   "outputs": [
    {
     "data": {
      "text/plain": [
       "(40961, 33687, 2676, 0, 0.9653923749418033, 0.9325221318425488)"
      ]
     },
     "execution_count": 148,
     "metadata": {},
     "output_type": "execute_result"
    }
   ],
   "source": [
    "isol_1=IsolationForest(n_estimators=50,\n",
    "                     max_samples=400,\n",
    "                     contamination=contamination,\n",
    "                     max_features=1.0,\n",
    "                     bootstrap=False,\n",
    "                     n_jobs=12,\n",
    "                     warm_start=False).fit(ADFANet_train_X__no_attacks_augmented)\n",
    "\n",
    "predicted=isol_1.predict(ADFANet_test_X)\n",
    "\n",
    "Y=ADFANet_test_Y\n",
    "predicted=np.where(predicted==-1, 1, 0)\n",
    "accuracy=accuracy_score(Y, predicted)\n",
    "mcc=matthews_corrcoef(Y, predicted)\n",
    "tn, fp, fn, tp= confusion_matrix(Y, predicted).ravel()\n",
    "\n",
    "tp, tn, fp, fn, accuracy, mcc"
   ]
  },
  {
   "cell_type": "code",
   "execution_count": 149,
   "id": "182e59b2",
   "metadata": {},
   "outputs": [],
   "source": [
    "##### normal_in_training_set=np.unique(ADFANet_train_X_no_attack.shape[0])\n",
    "original_attack_in_training_set=0\n",
    "normal_in_test_set=np.unique(ADFANet_test_Y, return_counts=True)[1][0]\n",
    "attacks_in_test_set=np.unique(ADFANet_test_Y, return_counts=True)[1][1]\n",
    "generated_attacks=X_ood.shape[0]\n",
    "\n",
    "adfa_competitors.write('ADFANet, '\n",
    "                       + 'ALAD (eGAN) '\n",
    "                       + '- 50 epochs, '\n",
    "                       + 'Isolation Forest, '\n",
    "                       + '0.6--0.4, '\n",
    "                       + str(normal_in_training_set) + ', '\n",
    "                       + str(original_attack_in_training_set) + ', '\n",
    "                       + str(generated_attacks) + ', '\n",
    "                       + str(normal_in_test_set) + ', '\n",
    "                       + str(attacks_in_test_set) + ', '\n",
    "                       + str(ADFANet_test_X.shape[1]) + ', '\n",
    "                       + ' NO AUGMENTATION, '\n",
    "                       + f'{tp}, {tn}, {fp}, {fn}, {accuracy:.4f}, {mcc:.4f}\\n')\n",
    "adfa_competitors.flush()"
   ]
  },
  {
   "cell_type": "markdown",
   "id": "883d8bfd",
   "metadata": {},
   "source": [
    "### ARN - Adversarial Regularized Reconstruction for Anomaly Detection and Generation\n",
    "\n",
    "To generate attacks and get results from ARN, execute the notebook: './arn/GENERATION_KDDCUP99REV/ADFA-ARN_ADFA_REV_Generation.ipynb'\n",
    "\n",
    "It saves the file with the created data in '/home/polazzi/arn/adfa/generated_attacks.npy'\n",
    "\n",
    "With respect to the other, there is a mandatory step of one-hot encoding and normalization of data. This seems to help a lot the algorithm (but not other algorithms as XGBoost, apparently)."
   ]
  },
  {
   "cell_type": "markdown",
   "id": "3ab9fcbf",
   "metadata": {},
   "source": [
    "It also need to create the train and test set in the same way. For this reason, we import the same creation method used in ARN."
   ]
  },
  {
   "cell_type": "code",
   "execution_count": 97,
   "id": "79253ec1",
   "metadata": {},
   "outputs": [],
   "source": [
    "generated_attacks=np.load('/home/polazzi/arn/adfa/generated_attacks.npy')"
   ]
  },
  {
   "cell_type": "code",
   "execution_count": 98,
   "id": "c63c8af1",
   "metadata": {},
   "outputs": [],
   "source": [
    "x_train=np.load(PATH+'/ARN_x_train.npy')\n",
    "x_test=np.load(PATH+'/ARN_x_test.npy')\n",
    "y_train=np.load(PATH+'/ARN_y_train.npy')\n",
    "y_test=np.load(PATH+'/ARN_y_test.npy')"
   ]
  },
  {
   "cell_type": "code",
   "execution_count": 99,
   "id": "be71fb24",
   "metadata": {},
   "outputs": [
    {
     "data": {
      "text/plain": [
       "((54627, 1119), (54272, 1119))"
      ]
     },
     "execution_count": 99,
     "metadata": {},
     "output_type": "execute_result"
    }
   ],
   "source": [
    "x_train.shape, generated_attacks.shape"
   ]
  },
  {
   "cell_type": "code",
   "execution_count": 100,
   "id": "5f44b6cf",
   "metadata": {},
   "outputs": [],
   "source": [
    "x_train_augmented=np.vstack((x_train,generated_attacks))\n",
    "\n",
    "y_train_augmented=np.hstack((y_train,\n",
    "                             np.ones(generated_attacks.shape[0],)))"
   ]
  },
  {
   "cell_type": "code",
   "execution_count": 101,
   "id": "b12e65d4",
   "metadata": {},
   "outputs": [
    {
     "data": {
      "text/plain": [
       "array([0., 0., 0., ..., 1., 1., 1.])"
      ]
     },
     "execution_count": 101,
     "metadata": {},
     "output_type": "execute_result"
    }
   ],
   "source": [
    "y_train_augmented"
   ]
  },
  {
   "cell_type": "code",
   "execution_count": 112,
   "id": "68caed13",
   "metadata": {},
   "outputs": [
    {
     "name": "stdout",
     "output_type": "stream",
     "text": [
      "tp, tn, fp, fn, accuracy, mcc:\n"
     ]
    },
    {
     "data": {
      "text/plain": [
       "(75, 36418, 0, 40886, 0.4716137453314207, 0.029369896688479707)"
      ]
     },
     "execution_count": 112,
     "metadata": {},
     "output_type": "execute_result"
    }
   ],
   "source": [
    "xb=xgb.XGBClassifier(objective='binary:logistic', \n",
    "                     use_label_encoder=False )\n",
    "\n",
    "xb.fit(x_train_augmented, \n",
    "       y_train_augmented)\n",
    "\n",
    "predicted=xb.predict(x_test)\n",
    "\n",
    "accuracy=accuracy_score(y_test, predicted)\n",
    "tn, fp, fn, tp = confusion_matrix(y_test, predicted).ravel()\n",
    "mcc=matthews_corrcoef(y_test, predicted)\n",
    "\n",
    "print(\"tp, tn, fp, fn, accuracy, mcc:\")\n",
    "tp, tn, fp, fn, accuracy, mcc"
   ]
  },
  {
   "cell_type": "code",
   "execution_count": 113,
   "id": "6cbfc3b8",
   "metadata": {},
   "outputs": [],
   "source": [
    "normal_in_training_set=np.unique(x_train.shape[0])\n",
    "original_attack_in_training_set=0\n",
    "normal_in_test_set=np.unique(y_test, return_counts=True)[1][0]\n",
    "attacks_in_test_set=np.unique(y_test, return_counts=True)[1][1]\n",
    "ga=generated_attacks.shape[0]\n",
    "\n",
    "adfa_competitors.write('ADFANet, '\n",
    "                       + 'ARN '\n",
    "                       + '- 500 epochs, '\n",
    "                       + 'XGBoost, '\n",
    "                       + '0.6--0.4, '\n",
    "                       + str(normal_in_training_set) + ', '\n",
    "                       + str(original_attack_in_training_set) + ', '\n",
    "                       + str(ga) + ', ' \n",
    "                       + str(normal_in_test_set) + ', '\n",
    "                       + str(attacks_in_test_set) + ', '\n",
    "                       + str(ADFANet_test_X.shape[1]) + ', '\n",
    "                       + ' NO AUGMENTATION, '\n",
    "                       #'{}, {}, {}, {}, {:3f}, {:3f} \\n'.format(tp, tn, fp, fn, accuracy, mcc)\n",
    "                       + f'{tp}, {tn}, {fp}, {fn}, {accuracy:.4f}, {mcc:.4f}\\n')\n",
    "adfa_competitors.flush()"
   ]
  },
  {
   "cell_type": "code",
   "execution_count": 103,
   "id": "00ec703c",
   "metadata": {},
   "outputs": [
    {
     "data": {
      "text/plain": [
       "(0.16666666666666669, (10925, 1119))"
      ]
     },
     "execution_count": 103,
     "metadata": {},
     "output_type": "execute_result"
    }
   ],
   "source": [
    "contamination=0.2\n",
    "\n",
    "total=int(x_train.shape[0]*contamination)\n",
    "if(total > generated_attacks.shape[0]):\n",
    "    print(\"contamination is larger than the available attacks.\")\n",
    "    sys.exit(0)\n",
    "    \n",
    "np.random.shuffle(generated_attacks)\n",
    "\n",
    "idx = np.random.randint(generated_attacks.shape[0], size=total)\n",
    "attacks=generated_attacks[idx,:]\n",
    "x_train_augmented=np.vstack((x_train, attacks))\n",
    "y_train_augmented=np.hstack((y_train,np.ones((attacks.shape[0],))))\n",
    "                                                 \n",
    "contamination=contamination/(1+contamination)\n",
    "                                                 \n",
    "contamination, attacks.shape"
   ]
  },
  {
   "cell_type": "code",
   "execution_count": 110,
   "id": "7f870d24",
   "metadata": {},
   "outputs": [
    {
     "name": "stdout",
     "output_type": "stream",
     "text": [
      "40961, 34378, 2040, 0, 0.9736362578994301, 0.9482617996607893\n"
     ]
    }
   ],
   "source": [
    "isol_1=IsolationForest(n_estimators=50,\n",
    "                         max_samples= 400,\n",
    "                         contamination=contamination,\n",
    "                         max_features=1.0,\n",
    "                         bootstrap=False,\n",
    "                         n_jobs=12,warm_start=False).fit(x_train_augmented)\n",
    "\n",
    "predicted=isol_1.predict(x_test)\n",
    "\n",
    "Y=y_test\n",
    "predicted=np.where(predicted==-1, 1, 0)\n",
    "accuracy=accuracy_score(Y, predicted)\n",
    "mcc=matthews_corrcoef(Y, predicted)\n",
    "tn, fp, fn, tp= confusion_matrix(Y, predicted).ravel()\n",
    "\n",
    "print(f'{tp}, {tn}, {fp}, {fn}, {accuracy}, {mcc}')"
   ]
  },
  {
   "cell_type": "code",
   "execution_count": 111,
   "id": "3f9c1a1f",
   "metadata": {},
   "outputs": [],
   "source": [
    "normal_in_training_set=np.unique(x_train.shape[0])\n",
    "original_attack_in_training_set=0\n",
    "normal_in_test_set=np.unique(y_test, return_counts=True)[1][0]\n",
    "attacks_in_test_set=np.unique(y_test, return_counts=True)[1][1]\n",
    "ga=generated_attacks.shape[0]\n",
    "\n",
    "adfa_competitors.write('ADFANet, '\n",
    "                       + 'ARN '\n",
    "                       + '- 500 epochs, '\n",
    "                       + 'Isolation Forest, '\n",
    "                       + '0.6--0.4, '\n",
    "                       + str(normal_in_training_set) + ', '\n",
    "                       + str(original_attack_in_training_set) + ', '\n",
    "                       + str(ga) + ', '\n",
    "                       + str(normal_in_test_set) + ', '\n",
    "                       + str(attacks_in_test_set) + ', '\n",
    "                       + str(ADFANet_test_X.shape[1]) + ', '\n",
    "                       + ' NO AUGMENTATION, '\n",
    "                       #'{}, {}, {}, {}, {:3f}, {:3f} \\n'.format(tp, tn, fp, fn, accuracy, mcc)\n",
    "                       + f'{tp}, {tn}, {fp}, {fn}, {accuracy:.4f}, {mcc:.4f}\\n')\n",
    "adfa_competitors.flush()"
   ]
  },
  {
   "cell_type": "code",
   "execution_count": null,
   "id": "918eec2c",
   "metadata": {},
   "outputs": [],
   "source": []
  }
 ],
 "metadata": {
  "kernelspec": {
   "display_name": "attacchi",
   "language": "python",
   "name": "attacchi"
  },
  "language_info": {
   "codemirror_mode": {
    "name": "ipython",
    "version": 3
   },
   "file_extension": ".py",
   "mimetype": "text/x-python",
   "name": "python",
   "nbconvert_exporter": "python",
   "pygments_lexer": "ipython3",
   "version": "3.7.12"
  }
 },
 "nbformat": 4,
 "nbformat_minor": 5
}
