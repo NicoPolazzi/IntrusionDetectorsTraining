{
 "cells": [
  {
   "attachments": {},
   "cell_type": "markdown",
   "id": "c2d45354",
   "metadata": {},
   "source": [
    "# Training utilizzando il dataset CICIDS18"
   ]
  },
  {
   "cell_type": "code",
   "execution_count": 72,
   "id": "3a201678",
   "metadata": {},
   "outputs": [],
   "source": [
    "import sys\n",
    "\n",
    "SAVE_ATTACKS=True #set to true if you want to save generated attacks\n",
    "SAVE_TRAIN_TEST=True #set to true if you want to save train test splits"
   ]
  },
  {
   "cell_type": "code",
   "execution_count": 73,
   "id": "6ffb8912",
   "metadata": {},
   "outputs": [],
   "source": [
    "#!conda  install  --yes --prefix {sys.prefix} -c conda-forge numpy==1.20\n",
    "#!conda  install  --yes --prefix {sys.prefix} -c conda-forge pandas\n",
    "#!conda  install  --yes --prefix {sys.prefix} -c conda-forge matplotlib\n",
    "#!conda  install  --yes --prefix {sys.prefix} -c conda-forge xgboost\n",
    "#!conda  install  --yes --prefix {sys.prefix} -c conda-forge scikit-learn\n",
    "\n",
    "#SOME SOLUTIONS REQUIRE TENSORFLOW 1.5, WHILE ONE PYOD AUTOENCODER WANTS 2.0. THIS CREATES SOME COMPATIBILITY PROBLEMS.\n",
    "#!conda  install  --yes --prefix {sys.prefix} -c conda-forge tensorflow==2\n",
    "#!conda  install  --yes --prefix {sys.prefix} -c conda-forge keras\n",
    "#!conda  install  --yes --prefix {sys.prefix} -c conda-forge  copulas\n",
    "#!conda  install  --yes --prefix {sys.prefix} -c conda-forge mkl-service"
   ]
  },
  {
   "cell_type": "code",
   "execution_count": 74,
   "id": "503dc91d",
   "metadata": {},
   "outputs": [],
   "source": [
    "#!{sys.executable} -m pip install pyod\n",
    "#!{sys.executable} -m pip install seaborn\n",
    "#!{sys.executable} -m pip install tabgan\n",
    "#!{sys.executable} -m pip install sbo"
   ]
  },
  {
   "cell_type": "code",
   "execution_count": 75,
   "id": "f611f867",
   "metadata": {},
   "outputs": [
    {
     "name": "stdout",
     "output_type": "stream",
     "text": [
      "2.1.0\n"
     ]
    }
   ],
   "source": [
    "import tensorflow as tf\n",
    "print(tf.__version__)"
   ]
  },
  {
   "cell_type": "code",
   "execution_count": 76,
   "id": "listed-balance",
   "metadata": {},
   "outputs": [],
   "source": [
    "import sys, os, time, glob, joblib, random, itertools, PIL\n",
    "import pandas as pd\n",
    "import numpy as np\n",
    "from xgboost import XGBClassifier\n",
    "import xgboost as xgb\n",
    "from sklearn.model_selection import train_test_split\n",
    "from sklearn.ensemble import RandomForestClassifier\n",
    "from sklearn.metrics import accuracy_score, confusion_matrix, matthews_corrcoef\n",
    "from sklearn.manifold import TSNE\n",
    "from sklearn.ensemble import IsolationForest\n",
    "from sklearn import ensemble\n",
    "from sklearn import metrics\n",
    "from sklearn.datasets import make_moons\n",
    "import matplotlib.pyplot as plt\n",
    "from matplotlib import cm\n",
    "from time import time\n",
    "import tensorflow as tf\n",
    "#import seaborn as sns\n",
    "#import pylab as plt\n",
    "from IPython import display\n",
    "from itertools import combinations\n",
    "#necessary to avoid growth of jupyter\n",
    "import warnings\n",
    "warnings.filterwarnings('ignore')\n",
    "\n",
    "%matplotlib inline"
   ]
  },
  {
   "cell_type": "code",
   "execution_count": 77,
   "id": "1a3e4e12",
   "metadata": {},
   "outputs": [],
   "source": [
    "PATH='/home/polazzi/datasets/cicids/'\n",
    "cicids_competitors=open(PATH+\"cicids_competitors.csv\", \"a\")"
   ]
  },
  {
   "cell_type": "code",
   "execution_count": 78,
   "id": "e8dd721f",
   "metadata": {},
   "outputs": [],
   "source": [
    "cicids_competitors.write('\\ndataset, '\n",
    "                       + 'generation technique, '\n",
    "                       + 'classifier, '\n",
    "                       + 'train-test split, ' \n",
    "                       + '# normal in training set, '\n",
    "                       + '# original attack in training set, '\n",
    "                       + '# generated attack in training set, '\n",
    "                       + '# normal in test set, ' \n",
    "                       + '# attacks in test set, '\n",
    "                       + ' features (columns) - may be 1-hotted, '\n",
    "                       + ' generated attack is manipulated, '\n",
    "                       + 'tp, tn, fp, fn, accuracy, mcc \\n')\n",
    "cicids_competitors.flush()"
   ]
  },
  {
   "cell_type": "code",
   "execution_count": 79,
   "id": "extreme-sense",
   "metadata": {},
   "outputs": [],
   "source": [
    "# scale and move the coordinates so they fit [0; 1] range\n",
    "def scale_to_01_range(x):\n",
    "    # compute the distribution range\n",
    "    value_range = (np.max(x) - np.min(x))\n",
    "\n",
    "    # move the distribution so that it starts from zero\n",
    "    # by extracting the minimal value from all its values\n",
    "    starts_from_zero = x - np.min(x)\n",
    "\n",
    "    # make the distribution fit [0; 1] by dividing by its range\n",
    "    if(value_range!=0):\n",
    "        return starts_from_zero / value_range\n",
    "    else:\n",
    "        return starts_from_zero"
   ]
  },
  {
   "attachments": {},
   "cell_type": "markdown",
   "id": "5d193977",
   "metadata": {},
   "source": [
    "### Partizionamento del dataset\n",
    "\n",
    "Come prima cosa, si crea la partizione di training e di test con un rapporto 60:40.\n",
    "La colonna contenente le etichette viene normalizzata con ivalori [0,1]."
   ]
  },
  {
   "cell_type": "code",
   "execution_count": 80,
   "id": "ultimate-input",
   "metadata": {},
   "outputs": [
    {
     "name": "stdout",
     "output_type": "stream",
     "text": [
      "['normal' 'DDOS attack-HOIC' 'SSH-Bruteforce' 'FTP-BruteForce'\n",
      " 'DoS attacks-Hulk' 'Infilteration' 'Bot' 'DoS attacks-SlowHTTPTest'\n",
      " 'DDOS attack-LOIC-UDP']\n",
      "<class 'pandas.core.frame.DataFrame'>\n",
      "RangeIndex: 199997 entries, 0 to 199996\n",
      "Data columns (total 79 columns):\n",
      " #   Column             Non-Null Count   Dtype  \n",
      "---  ------             --------------   -----  \n",
      " 0   Protocol           199997 non-null  int64  \n",
      " 1   Timestamp          199997 non-null  object \n",
      " 2   Flow_Duration      199997 non-null  int64  \n",
      " 3   Tot_Fwd_Pkts       199997 non-null  int64  \n",
      " 4   Tot_Bwd_Pkts       199997 non-null  int64  \n",
      " 5   TotLen_Fwd_Pkts    199997 non-null  int64  \n",
      " 6   TotLen_Bwd_Pkts    199997 non-null  int64  \n",
      " 7   Fwd_Pkt_Len_Max    199997 non-null  int64  \n",
      " 8   Fwd_Pkt_Len_Min    199997 non-null  int64  \n",
      " 9   Fwd_Pkt_Len_Mean   199997 non-null  float64\n",
      " 10  Fwd_Pkt_Len_Std    199997 non-null  float64\n",
      " 11  Bwd_Pkt_Len_Max    199997 non-null  int64  \n",
      " 12  Bwd_Pkt_Len_Min    199997 non-null  int64  \n",
      " 13  Bwd_Pkt_Len_Mean   199997 non-null  float64\n",
      " 14  Bwd_Pkt_Len_Std    199997 non-null  float64\n",
      " 15  Flow_Bytss         199997 non-null  float64\n",
      " 16  Flow_Pktss         199997 non-null  float64\n",
      " 17  Flow_IAT_Mean      199997 non-null  float64\n",
      " 18  Flow_IAT_Std       199997 non-null  float64\n",
      " 19  Flow_IAT_Max       199997 non-null  float64\n",
      " 20  Flow_IAT_Min       199997 non-null  float64\n",
      " 21  Fwd_IAT_Tot        199997 non-null  float64\n",
      " 22  Fwd_IAT_Mean       199997 non-null  float64\n",
      " 23  Fwd_IAT_Std        199997 non-null  float64\n",
      " 24  Fwd_IAT_Max        199997 non-null  float64\n",
      " 25  Fwd_IAT_Min        199997 non-null  float64\n",
      " 26  Bwd_IAT_Tot        199997 non-null  float64\n",
      " 27  Bwd_IAT_Mean       199997 non-null  float64\n",
      " 28  Bwd_IAT_Std        199997 non-null  float64\n",
      " 29  Bwd_IAT_Max        199997 non-null  float64\n",
      " 30  Bwd_IAT_Min        199997 non-null  float64\n",
      " 31  Fwd_PSH_Flags      199997 non-null  int64  \n",
      " 32  Bwd_PSH_Flags      199997 non-null  int64  \n",
      " 33  Fwd_URG_Flags      199997 non-null  int64  \n",
      " 34  Bwd_URG_Flags      199997 non-null  int64  \n",
      " 35  Fwd_Header_Len     199997 non-null  int64  \n",
      " 36  Bwd_Header_Len     199997 non-null  int64  \n",
      " 37  Fwd_Pktss          199997 non-null  float64\n",
      " 38  Bwd_Pktss          199997 non-null  float64\n",
      " 39  Pkt_Len_Min        199997 non-null  int64  \n",
      " 40  Pkt_Len_Max        199997 non-null  int64  \n",
      " 41  Pkt_Len_Mean       199997 non-null  float64\n",
      " 42  Pkt_Len_Std        199997 non-null  float64\n",
      " 43  Pkt_Len_Var        199997 non-null  float64\n",
      " 44  FIN_Flag_Cnt       199997 non-null  int64  \n",
      " 45  SYN_Flag_Cnt       199997 non-null  int64  \n",
      " 46  RST_Flag_Cnt       199997 non-null  int64  \n",
      " 47  PSH_Flag_Cnt       199997 non-null  int64  \n",
      " 48  ACK_Flag_Cnt       199997 non-null  int64  \n",
      " 49  URG_Flag_Cnt       199997 non-null  int64  \n",
      " 50  CWE_Flag_Count     199997 non-null  int64  \n",
      " 51  ECE_Flag_Cnt       199997 non-null  int64  \n",
      " 52  DownUp_Ratio       199997 non-null  int64  \n",
      " 53  Pkt_Size_Avg       199997 non-null  float64\n",
      " 54  Fwd_Seg_Size_Avg   199997 non-null  float64\n",
      " 55  Bwd_Seg_Size_Avg   199997 non-null  float64\n",
      " 56  Fwd_Bytsb_Avg      199997 non-null  int64  \n",
      " 57  Fwd_Pktsb_Avg      199997 non-null  int64  \n",
      " 58  Fwd_Blk_Rate_Avg   199997 non-null  int64  \n",
      " 59  Bwd_Bytsb_Avg      199997 non-null  int64  \n",
      " 60  Bwd_Pktsb_Avg      199997 non-null  int64  \n",
      " 61  Bwd_Blk_Rate_Avg   199997 non-null  int64  \n",
      " 62  Subflow_Fwd_Pkts   199997 non-null  int64  \n",
      " 63  Subflow_Fwd_Byts   199997 non-null  int64  \n",
      " 64  Subflow_Bwd_Pkts   199997 non-null  int64  \n",
      " 65  Subflow_Bwd_Byts   199997 non-null  int64  \n",
      " 66  Init_Fwd_Win_Byts  199997 non-null  int64  \n",
      " 67  Init_Bwd_Win_Byts  199997 non-null  int64  \n",
      " 68  Fwd_Act_Data_Pkts  199997 non-null  int64  \n",
      " 69  Fwd_Seg_Size_Min   199997 non-null  int64  \n",
      " 70  Active_Mean        199997 non-null  float64\n",
      " 71  Active_Std         199997 non-null  float64\n",
      " 72  Active_Max         199997 non-null  float64\n",
      " 73  Active_Min         199997 non-null  float64\n",
      " 74  Idle_Mean          199997 non-null  float64\n",
      " 75  Idle_Std           199997 non-null  float64\n",
      " 76  Idle_Max           199997 non-null  float64\n",
      " 77  Idle_Min           199997 non-null  float64\n",
      " 78  label              199997 non-null  object \n",
      "dtypes: float64(36), int64(41), object(2)\n",
      "memory usage: 120.5+ MB\n"
     ]
    }
   ],
   "source": [
    "CICIDS=pd.read_csv(PATH+\"CICIDS18_Shuffled_Reduced.csv\")\n",
    "CICIDS.replace([np.inf, -np.inf], np.nan, inplace=True)\n",
    "CICIDS.fillna(-1, inplace=True)\n",
    "CICIDS_Y = CICIDS[['label']]\n",
    "print(CICIDS_Y['label'].unique())\n",
    "\n",
    "CICIDS.info()\n",
    "\n",
    "CICIDS=CICIDS.drop(columns=[\"Timestamp\"])\n",
    "CICIDS['label'] =CICIDS['label'].replace(['normal'],0)\n",
    "CICIDS.loc[CICIDS[\"label\"] !=0, \"label\"] = 1\n",
    "CICIDS_X=CICIDS.apply(pd.to_numeric)\n",
    "CICIDS_Y=CICIDS['label'].apply(pd.to_numeric)\n",
    "CICIDS_X=CICIDS_X.drop('label', axis=1, inplace=False)"
   ]
  },
  {
   "cell_type": "code",
   "execution_count": 81,
   "id": "ddec5ea2",
   "metadata": {},
   "outputs": [
    {
     "data": {
      "text/html": [
       "<div>\n",
       "<style scoped>\n",
       "    .dataframe tbody tr th:only-of-type {\n",
       "        vertical-align: middle;\n",
       "    }\n",
       "\n",
       "    .dataframe tbody tr th {\n",
       "        vertical-align: top;\n",
       "    }\n",
       "\n",
       "    .dataframe thead th {\n",
       "        text-align: right;\n",
       "    }\n",
       "</style>\n",
       "<table border=\"1\" class=\"dataframe\">\n",
       "  <thead>\n",
       "    <tr style=\"text-align: right;\">\n",
       "      <th></th>\n",
       "      <th>Protocol</th>\n",
       "      <th>Flow_Duration</th>\n",
       "      <th>Tot_Fwd_Pkts</th>\n",
       "      <th>Tot_Bwd_Pkts</th>\n",
       "      <th>TotLen_Fwd_Pkts</th>\n",
       "      <th>TotLen_Bwd_Pkts</th>\n",
       "      <th>Fwd_Pkt_Len_Max</th>\n",
       "      <th>Fwd_Pkt_Len_Min</th>\n",
       "      <th>Fwd_Pkt_Len_Mean</th>\n",
       "      <th>Fwd_Pkt_Len_Std</th>\n",
       "      <th>...</th>\n",
       "      <th>Fwd_Act_Data_Pkts</th>\n",
       "      <th>Fwd_Seg_Size_Min</th>\n",
       "      <th>Active_Mean</th>\n",
       "      <th>Active_Std</th>\n",
       "      <th>Active_Max</th>\n",
       "      <th>Active_Min</th>\n",
       "      <th>Idle_Mean</th>\n",
       "      <th>Idle_Std</th>\n",
       "      <th>Idle_Max</th>\n",
       "      <th>Idle_Min</th>\n",
       "    </tr>\n",
       "  </thead>\n",
       "  <tbody>\n",
       "    <tr>\n",
       "      <th>0</th>\n",
       "      <td>6</td>\n",
       "      <td>4368867</td>\n",
       "      <td>5</td>\n",
       "      <td>3</td>\n",
       "      <td>935</td>\n",
       "      <td>343</td>\n",
       "      <td>935</td>\n",
       "      <td>0</td>\n",
       "      <td>187.000000</td>\n",
       "      <td>418.144712</td>\n",
       "      <td>...</td>\n",
       "      <td>1</td>\n",
       "      <td>32</td>\n",
       "      <td>0.0</td>\n",
       "      <td>0.0</td>\n",
       "      <td>0.0</td>\n",
       "      <td>0.0</td>\n",
       "      <td>0.0</td>\n",
       "      <td>0.0</td>\n",
       "      <td>0.0</td>\n",
       "      <td>0.0</td>\n",
       "    </tr>\n",
       "    <tr>\n",
       "      <th>1</th>\n",
       "      <td>6</td>\n",
       "      <td>6157</td>\n",
       "      <td>3</td>\n",
       "      <td>4</td>\n",
       "      <td>289</td>\n",
       "      <td>935</td>\n",
       "      <td>289</td>\n",
       "      <td>0</td>\n",
       "      <td>96.333333</td>\n",
       "      <td>166.854228</td>\n",
       "      <td>...</td>\n",
       "      <td>1</td>\n",
       "      <td>20</td>\n",
       "      <td>0.0</td>\n",
       "      <td>0.0</td>\n",
       "      <td>0.0</td>\n",
       "      <td>0.0</td>\n",
       "      <td>0.0</td>\n",
       "      <td>0.0</td>\n",
       "      <td>0.0</td>\n",
       "      <td>0.0</td>\n",
       "    </tr>\n",
       "    <tr>\n",
       "      <th>2</th>\n",
       "      <td>6</td>\n",
       "      <td>48</td>\n",
       "      <td>2</td>\n",
       "      <td>0</td>\n",
       "      <td>0</td>\n",
       "      <td>0</td>\n",
       "      <td>0</td>\n",
       "      <td>0</td>\n",
       "      <td>0.000000</td>\n",
       "      <td>0.000000</td>\n",
       "      <td>...</td>\n",
       "      <td>0</td>\n",
       "      <td>20</td>\n",
       "      <td>0.0</td>\n",
       "      <td>0.0</td>\n",
       "      <td>0.0</td>\n",
       "      <td>0.0</td>\n",
       "      <td>0.0</td>\n",
       "      <td>0.0</td>\n",
       "      <td>0.0</td>\n",
       "      <td>0.0</td>\n",
       "    </tr>\n",
       "    <tr>\n",
       "      <th>3</th>\n",
       "      <td>6</td>\n",
       "      <td>6</td>\n",
       "      <td>1</td>\n",
       "      <td>1</td>\n",
       "      <td>0</td>\n",
       "      <td>0</td>\n",
       "      <td>0</td>\n",
       "      <td>0</td>\n",
       "      <td>0.000000</td>\n",
       "      <td>0.000000</td>\n",
       "      <td>...</td>\n",
       "      <td>0</td>\n",
       "      <td>32</td>\n",
       "      <td>0.0</td>\n",
       "      <td>0.0</td>\n",
       "      <td>0.0</td>\n",
       "      <td>0.0</td>\n",
       "      <td>0.0</td>\n",
       "      <td>0.0</td>\n",
       "      <td>0.0</td>\n",
       "      <td>0.0</td>\n",
       "    </tr>\n",
       "    <tr>\n",
       "      <th>4</th>\n",
       "      <td>6</td>\n",
       "      <td>2</td>\n",
       "      <td>1</td>\n",
       "      <td>1</td>\n",
       "      <td>0</td>\n",
       "      <td>0</td>\n",
       "      <td>0</td>\n",
       "      <td>0</td>\n",
       "      <td>0.000000</td>\n",
       "      <td>0.000000</td>\n",
       "      <td>...</td>\n",
       "      <td>0</td>\n",
       "      <td>40</td>\n",
       "      <td>0.0</td>\n",
       "      <td>0.0</td>\n",
       "      <td>0.0</td>\n",
       "      <td>0.0</td>\n",
       "      <td>0.0</td>\n",
       "      <td>0.0</td>\n",
       "      <td>0.0</td>\n",
       "      <td>0.0</td>\n",
       "    </tr>\n",
       "    <tr>\n",
       "      <th>...</th>\n",
       "      <td>...</td>\n",
       "      <td>...</td>\n",
       "      <td>...</td>\n",
       "      <td>...</td>\n",
       "      <td>...</td>\n",
       "      <td>...</td>\n",
       "      <td>...</td>\n",
       "      <td>...</td>\n",
       "      <td>...</td>\n",
       "      <td>...</td>\n",
       "      <td>...</td>\n",
       "      <td>...</td>\n",
       "      <td>...</td>\n",
       "      <td>...</td>\n",
       "      <td>...</td>\n",
       "      <td>...</td>\n",
       "      <td>...</td>\n",
       "      <td>...</td>\n",
       "      <td>...</td>\n",
       "      <td>...</td>\n",
       "      <td>...</td>\n",
       "    </tr>\n",
       "    <tr>\n",
       "      <th>199992</th>\n",
       "      <td>6</td>\n",
       "      <td>6</td>\n",
       "      <td>1</td>\n",
       "      <td>1</td>\n",
       "      <td>0</td>\n",
       "      <td>0</td>\n",
       "      <td>0</td>\n",
       "      <td>0</td>\n",
       "      <td>0.000000</td>\n",
       "      <td>0.000000</td>\n",
       "      <td>...</td>\n",
       "      <td>0</td>\n",
       "      <td>32</td>\n",
       "      <td>0.0</td>\n",
       "      <td>0.0</td>\n",
       "      <td>0.0</td>\n",
       "      <td>0.0</td>\n",
       "      <td>0.0</td>\n",
       "      <td>0.0</td>\n",
       "      <td>0.0</td>\n",
       "      <td>0.0</td>\n",
       "    </tr>\n",
       "    <tr>\n",
       "      <th>199993</th>\n",
       "      <td>6</td>\n",
       "      <td>1393225</td>\n",
       "      <td>8</td>\n",
       "      <td>7</td>\n",
       "      <td>1132</td>\n",
       "      <td>1581</td>\n",
       "      <td>661</td>\n",
       "      <td>0</td>\n",
       "      <td>141.500000</td>\n",
       "      <td>222.792023</td>\n",
       "      <td>...</td>\n",
       "      <td>5</td>\n",
       "      <td>20</td>\n",
       "      <td>0.0</td>\n",
       "      <td>0.0</td>\n",
       "      <td>0.0</td>\n",
       "      <td>0.0</td>\n",
       "      <td>0.0</td>\n",
       "      <td>0.0</td>\n",
       "      <td>0.0</td>\n",
       "      <td>0.0</td>\n",
       "    </tr>\n",
       "    <tr>\n",
       "      <th>199994</th>\n",
       "      <td>6</td>\n",
       "      <td>5277048</td>\n",
       "      <td>5</td>\n",
       "      <td>3</td>\n",
       "      <td>935</td>\n",
       "      <td>364</td>\n",
       "      <td>935</td>\n",
       "      <td>0</td>\n",
       "      <td>187.000000</td>\n",
       "      <td>418.144712</td>\n",
       "      <td>...</td>\n",
       "      <td>1</td>\n",
       "      <td>32</td>\n",
       "      <td>0.0</td>\n",
       "      <td>0.0</td>\n",
       "      <td>0.0</td>\n",
       "      <td>0.0</td>\n",
       "      <td>5205095.0</td>\n",
       "      <td>0.0</td>\n",
       "      <td>5205095.0</td>\n",
       "      <td>5205095.0</td>\n",
       "    </tr>\n",
       "    <tr>\n",
       "      <th>199995</th>\n",
       "      <td>6</td>\n",
       "      <td>933</td>\n",
       "      <td>2</td>\n",
       "      <td>0</td>\n",
       "      <td>0</td>\n",
       "      <td>0</td>\n",
       "      <td>0</td>\n",
       "      <td>0</td>\n",
       "      <td>0.000000</td>\n",
       "      <td>0.000000</td>\n",
       "      <td>...</td>\n",
       "      <td>0</td>\n",
       "      <td>32</td>\n",
       "      <td>0.0</td>\n",
       "      <td>0.0</td>\n",
       "      <td>0.0</td>\n",
       "      <td>0.0</td>\n",
       "      <td>0.0</td>\n",
       "      <td>0.0</td>\n",
       "      <td>0.0</td>\n",
       "      <td>0.0</td>\n",
       "    </tr>\n",
       "    <tr>\n",
       "      <th>199996</th>\n",
       "      <td>6</td>\n",
       "      <td>4512865</td>\n",
       "      <td>5</td>\n",
       "      <td>5</td>\n",
       "      <td>935</td>\n",
       "      <td>1068</td>\n",
       "      <td>935</td>\n",
       "      <td>0</td>\n",
       "      <td>187.000000</td>\n",
       "      <td>418.144712</td>\n",
       "      <td>...</td>\n",
       "      <td>1</td>\n",
       "      <td>32</td>\n",
       "      <td>0.0</td>\n",
       "      <td>0.0</td>\n",
       "      <td>0.0</td>\n",
       "      <td>0.0</td>\n",
       "      <td>0.0</td>\n",
       "      <td>0.0</td>\n",
       "      <td>0.0</td>\n",
       "      <td>0.0</td>\n",
       "    </tr>\n",
       "  </tbody>\n",
       "</table>\n",
       "<p>199997 rows × 77 columns</p>\n",
       "</div>"
      ],
      "text/plain": [
       "        Protocol  Flow_Duration  Tot_Fwd_Pkts  Tot_Bwd_Pkts  TotLen_Fwd_Pkts  \\\n",
       "0              6        4368867             5             3              935   \n",
       "1              6           6157             3             4              289   \n",
       "2              6             48             2             0                0   \n",
       "3              6              6             1             1                0   \n",
       "4              6              2             1             1                0   \n",
       "...          ...            ...           ...           ...              ...   \n",
       "199992         6              6             1             1                0   \n",
       "199993         6        1393225             8             7             1132   \n",
       "199994         6        5277048             5             3              935   \n",
       "199995         6            933             2             0                0   \n",
       "199996         6        4512865             5             5              935   \n",
       "\n",
       "        TotLen_Bwd_Pkts  Fwd_Pkt_Len_Max  Fwd_Pkt_Len_Min  Fwd_Pkt_Len_Mean  \\\n",
       "0                   343              935                0        187.000000   \n",
       "1                   935              289                0         96.333333   \n",
       "2                     0                0                0          0.000000   \n",
       "3                     0                0                0          0.000000   \n",
       "4                     0                0                0          0.000000   \n",
       "...                 ...              ...              ...               ...   \n",
       "199992                0                0                0          0.000000   \n",
       "199993             1581              661                0        141.500000   \n",
       "199994              364              935                0        187.000000   \n",
       "199995                0                0                0          0.000000   \n",
       "199996             1068              935                0        187.000000   \n",
       "\n",
       "        Fwd_Pkt_Len_Std  ...  Fwd_Act_Data_Pkts  Fwd_Seg_Size_Min  \\\n",
       "0            418.144712  ...                  1                32   \n",
       "1            166.854228  ...                  1                20   \n",
       "2              0.000000  ...                  0                20   \n",
       "3              0.000000  ...                  0                32   \n",
       "4              0.000000  ...                  0                40   \n",
       "...                 ...  ...                ...               ...   \n",
       "199992         0.000000  ...                  0                32   \n",
       "199993       222.792023  ...                  5                20   \n",
       "199994       418.144712  ...                  1                32   \n",
       "199995         0.000000  ...                  0                32   \n",
       "199996       418.144712  ...                  1                32   \n",
       "\n",
       "        Active_Mean  Active_Std  Active_Max  Active_Min  Idle_Mean  Idle_Std  \\\n",
       "0               0.0         0.0         0.0         0.0        0.0       0.0   \n",
       "1               0.0         0.0         0.0         0.0        0.0       0.0   \n",
       "2               0.0         0.0         0.0         0.0        0.0       0.0   \n",
       "3               0.0         0.0         0.0         0.0        0.0       0.0   \n",
       "4               0.0         0.0         0.0         0.0        0.0       0.0   \n",
       "...             ...         ...         ...         ...        ...       ...   \n",
       "199992          0.0         0.0         0.0         0.0        0.0       0.0   \n",
       "199993          0.0         0.0         0.0         0.0        0.0       0.0   \n",
       "199994          0.0         0.0         0.0         0.0  5205095.0       0.0   \n",
       "199995          0.0         0.0         0.0         0.0        0.0       0.0   \n",
       "199996          0.0         0.0         0.0         0.0        0.0       0.0   \n",
       "\n",
       "         Idle_Max   Idle_Min  \n",
       "0             0.0        0.0  \n",
       "1             0.0        0.0  \n",
       "2             0.0        0.0  \n",
       "3             0.0        0.0  \n",
       "4             0.0        0.0  \n",
       "...           ...        ...  \n",
       "199992        0.0        0.0  \n",
       "199993        0.0        0.0  \n",
       "199994  5205095.0  5205095.0  \n",
       "199995        0.0        0.0  \n",
       "199996        0.0        0.0  \n",
       "\n",
       "[199997 rows x 77 columns]"
      ]
     },
     "execution_count": 81,
     "metadata": {},
     "output_type": "execute_result"
    }
   ],
   "source": [
    "CICIDS_X"
   ]
  },
  {
   "cell_type": "code",
   "execution_count": 82,
   "id": "003e891c",
   "metadata": {},
   "outputs": [
    {
     "data": {
      "text/plain": [
       "0         0\n",
       "1         1\n",
       "2         0\n",
       "3         1\n",
       "4         1\n",
       "         ..\n",
       "199992    1\n",
       "199993    0\n",
       "199994    0\n",
       "199995    1\n",
       "199996    0\n",
       "Name: label, Length: 199997, dtype: int64"
      ]
     },
     "execution_count": 82,
     "metadata": {},
     "output_type": "execute_result"
    }
   ],
   "source": [
    "CICIDS_Y"
   ]
  },
  {
   "cell_type": "code",
   "execution_count": 87,
   "id": "d72c9ff0",
   "metadata": {},
   "outputs": [],
   "source": [
    "#Eseguire solo una volta, altrimenti la codifica one-hot non funziona più\n",
    "#CICIDS_train_X, CICIDS_test_X,CICIDS_train_Y, CICIDS_test_Y = train_test_split(CICIDS_X,CICIDS_Y, \n",
    "#                                                                                    test_size=0.4, \n",
    "#                                                                                    shuffle=True)\n",
    "#\n",
    "#\n",
    "#CICIDS_train_X.to_pickle(PATH+'/cicids_Preliminary_Train_X.pkl')\n",
    "#CICIDS_train_Y.to_pickle(PATH+'/cicids_Preliminary_Train_Y.pkl')\n",
    "#CICIDS_test_X.to_pickle(PATH+'/cicids_Preliminary_Test_X.pkl')\n",
    "#CICIDS_test_Y.to_pickle(PATH+'/cicids_Preliminary_Test_Y.pkl')"
   ]
  },
  {
   "cell_type": "code",
   "execution_count": 88,
   "id": "b96a540e",
   "metadata": {},
   "outputs": [],
   "source": [
    "CICIDS_train_X=pd.read_pickle(PATH+'/cicids_Preliminary_Train_X.pkl')\n",
    "CICIDS_train_Y=pd.read_pickle(PATH+'/cicids_Preliminary_Train_Y.pkl')\n",
    "CICIDS_test_X=pd.read_pickle(PATH+'/cicids_Preliminary_Test_X.pkl')\n",
    "CICIDS_test_Y=pd.read_pickle(PATH+'/cicids_Preliminary_Test_Y.pkl')"
   ]
  },
  {
   "cell_type": "code",
   "execution_count": 89,
   "id": "615fd419",
   "metadata": {},
   "outputs": [
    {
     "name": "stdout",
     "output_type": "stream",
     "text": [
      "train_size, test_size\n"
     ]
    },
    {
     "data": {
      "text/plain": [
       "((119998, 77), (79999, 77))"
      ]
     },
     "execution_count": 89,
     "metadata": {},
     "output_type": "execute_result"
    }
   ],
   "source": [
    "print('train_size, test_size')\n",
    "CICIDS_train_X.shape, CICIDS_test_X.shape #,contamination"
   ]
  },
  {
   "cell_type": "code",
   "execution_count": 90,
   "id": "8019b806",
   "metadata": {},
   "outputs": [],
   "source": [
    "CICIDS_train_X_no_oneHot=CICIDS_train_X\n",
    "CICIDS_test_X_no_oneHot=CICIDS_test_X\n",
    "CICIDS_test_Y_no_oneHot=CICIDS_test_Y"
   ]
  },
  {
   "cell_type": "code",
   "execution_count": 91,
   "id": "0c695a97",
   "metadata": {},
   "outputs": [
    {
     "data": {
      "text/plain": [
       "(pandas.core.frame.DataFrame, pandas.core.series.Series)"
      ]
     },
     "execution_count": 91,
     "metadata": {},
     "output_type": "execute_result"
    }
   ],
   "source": [
    "type(CICIDS_test_X), type(CICIDS_test_Y)"
   ]
  },
  {
   "cell_type": "code",
   "execution_count": 92,
   "id": "5e7cf516",
   "metadata": {},
   "outputs": [
    {
     "data": {
      "text/plain": [
       "(False, False)"
      ]
     },
     "execution_count": 92,
     "metadata": {},
     "output_type": "execute_result"
    }
   ],
   "source": [
    "np.any(np.isnan(CICIDS_train_X)), np.any(np.isnan(CICIDS_test_X))"
   ]
  },
  {
   "attachments": {},
   "cell_type": "markdown",
   "id": "f9ba17e3",
   "metadata": {},
   "source": [
    "I categorici da mettere in one-hot encoding sono:\n",
    "- Protocol 3\n",
    "- Fwd_PSH_Flags 2\n",
    "- Bwd_PSH_Flags 1\n",
    "- Fwd_URG_Flags 2\n",
    "- Bwd_URG_Flags 1\n",
    "- FIN_Flag_Cnt 2\n",
    "- SYN_Flag_Cnt 2\n",
    "- RST_Flag_Cnt 2\n",
    "- PSH_Flag_Cnt 2\n",
    "- ACK_Flag_Cnt 2\n",
    "- URG_Flag_Cnt 2\n",
    "- CWE_Flag_Count 2\n",
    "- ECE_Flag_Cnt 2\n",
    "- DownUp_Ratio 13\n",
    "- Fwd_Bytsb_Avg 1\n",
    "- Fwd_Pktsb_Avg 1\n",
    "- Fwd_Blk_Rate_Avg 1\n",
    "- Bwd_Bytsb_Avg 1\n",
    "- Bwd_Pktsb_Avg 1\n",
    "- Bwd_Blk_Rate_Avg 1"
   ]
  },
  {
   "cell_type": "code",
   "execution_count": 93,
   "id": "2c46a7e3",
   "metadata": {},
   "outputs": [
    {
     "data": {
      "text/plain": [
       "(119998, 20)"
      ]
     },
     "execution_count": 93,
     "metadata": {},
     "output_type": "execute_result"
    }
   ],
   "source": [
    "from sklearn.preprocessing import OneHotEncoder\n",
    "\n",
    "enc = OneHotEncoder(handle_unknown='ignore')\n",
    "\n",
    "array_train= pd.DataFrame().assign(A=CICIDS_train_X['Protocol'],\n",
    "                             B=CICIDS_train_X['Fwd_PSH_Flags'],\n",
    "                             C=CICIDS_train_X['Bwd_PSH_Flags'], \n",
    "                             D=CICIDS_train_X['Fwd_URG_Flags'],\n",
    "                             E=CICIDS_train_X['Bwd_URG_Flags'],\n",
    "                             F=CICIDS_train_X['FIN_Flag_Cnt'],\n",
    "                             G=CICIDS_train_X['SYN_Flag_Cnt'],\n",
    "                             H=CICIDS_train_X['RST_Flag_Cnt'],\n",
    "                             I=CICIDS_train_X['PSH_Flag_Cnt'],\n",
    "                             J=CICIDS_train_X['ACK_Flag_Cnt'],\n",
    "                             K=CICIDS_train_X['URG_Flag_Cnt'],\n",
    "                             L=CICIDS_train_X['CWE_Flag_Count'],\n",
    "                             M=CICIDS_train_X['ECE_Flag_Cnt'],\n",
    "                             N=CICIDS_train_X['DownUp_Ratio'],\n",
    "                             P=CICIDS_train_X['Fwd_Bytsb_Avg'],\n",
    "                             Q=CICIDS_train_X['Fwd_Pktsb_Avg'],\n",
    "                             R=CICIDS_train_X['Fwd_Blk_Rate_Avg'],\n",
    "                             S=CICIDS_train_X['Bwd_Bytsb_Avg'],\n",
    "                             T=CICIDS_train_X['Bwd_Pktsb_Avg'],\n",
    "                             U=CICIDS_train_X['Bwd_Blk_Rate_Avg'],\n",
    "                            )\n",
    "array_train.shape"
   ]
  },
  {
   "cell_type": "code",
   "execution_count": 94,
   "id": "a786e2f0",
   "metadata": {},
   "outputs": [
    {
     "data": {
      "text/plain": [
       "((119998, 42), (119998, 20))"
      ]
     },
     "execution_count": 94,
     "metadata": {},
     "output_type": "execute_result"
    }
   ],
   "source": [
    "#enc=enc.fit(array)\n",
    "enc.fit(array_train)\n",
    "\n",
    "encoded=enc.transform(array_train).toarray()\n",
    "encoded.shape, array_train.shape"
   ]
  },
  {
   "cell_type": "code",
   "execution_count": 95,
   "id": "d46b69ba",
   "metadata": {},
   "outputs": [
    {
     "data": {
      "text/plain": [
       "(119998, 119)"
      ]
     },
     "execution_count": 95,
     "metadata": {},
     "output_type": "execute_result"
    }
   ],
   "source": [
    "CICIDS_train_X = CICIDS_train_X.join(pd.DataFrame(encoded))\n",
    "CICIDS_train_X=CICIDS_train_X.fillna(0, inplace= False)\n",
    "CICIDS_train_X.shape"
   ]
  },
  {
   "cell_type": "code",
   "execution_count": 96,
   "id": "cad4dde4",
   "metadata": {},
   "outputs": [
    {
     "data": {
      "text/plain": [
       "(False, False)"
      ]
     },
     "execution_count": 96,
     "metadata": {},
     "output_type": "execute_result"
    }
   ],
   "source": [
    "np.any(np.isnan(encoded)), np.any(np.isnan(array_train))"
   ]
  },
  {
   "cell_type": "code",
   "execution_count": 97,
   "id": "80cc4474",
   "metadata": {},
   "outputs": [
    {
     "data": {
      "text/plain": [
       "(119998, 20)"
      ]
     },
     "execution_count": 97,
     "metadata": {},
     "output_type": "execute_result"
    }
   ],
   "source": [
    "array_test= pd.DataFrame().assign(\n",
    "                             A=CICIDS_test_X['Protocol'],\n",
    "                             B=CICIDS_test_X['Fwd_PSH_Flags'],\n",
    "                             C=CICIDS_test_X['Bwd_PSH_Flags'], \n",
    "                             D=CICIDS_test_X['Fwd_URG_Flags'],\n",
    "                             E=CICIDS_test_X['Bwd_URG_Flags'],\n",
    "                             F=CICIDS_test_X['FIN_Flag_Cnt'],\n",
    "                             G=CICIDS_test_X['SYN_Flag_Cnt'],\n",
    "                             H=CICIDS_test_X['RST_Flag_Cnt'],\n",
    "                             I=CICIDS_test_X['PSH_Flag_Cnt'],\n",
    "                             J=CICIDS_test_X['ACK_Flag_Cnt'],\n",
    "                             K=CICIDS_test_X['URG_Flag_Cnt'],\n",
    "                             L=CICIDS_test_X['CWE_Flag_Count'],\n",
    "                             M=CICIDS_test_X['ECE_Flag_Cnt'],\n",
    "                             N=CICIDS_test_X['DownUp_Ratio'],\n",
    "                             P=CICIDS_test_X['Fwd_Bytsb_Avg'],\n",
    "                             Q=CICIDS_test_X['Fwd_Pktsb_Avg'],\n",
    "                             R=CICIDS_test_X['Fwd_Blk_Rate_Avg'],\n",
    "                             S=CICIDS_test_X['Bwd_Bytsb_Avg'],\n",
    "                             T=CICIDS_test_X['Bwd_Pktsb_Avg'],\n",
    "                             U=CICIDS_test_X['Bwd_Blk_Rate_Avg'],\n",
    "                            )\n",
    "array_train.shape"
   ]
  },
  {
   "cell_type": "code",
   "execution_count": 98,
   "id": "e8d6c7b0",
   "metadata": {},
   "outputs": [
    {
     "data": {
      "text/plain": [
       "((79999, 42), (79999, 20), (79999, 77))"
      ]
     },
     "execution_count": 98,
     "metadata": {},
     "output_type": "execute_result"
    }
   ],
   "source": [
    "encoded=enc.transform(array_test).toarray()\n",
    "encoded.shape, array_test.shape, CICIDS_test_X.shape"
   ]
  },
  {
   "cell_type": "code",
   "execution_count": 99,
   "id": "4b85abbf",
   "metadata": {},
   "outputs": [
    {
     "data": {
      "text/plain": [
       "(79999, 119)"
      ]
     },
     "execution_count": 99,
     "metadata": {},
     "output_type": "execute_result"
    }
   ],
   "source": [
    "CICIDS_test_X = CICIDS_test_X.join(pd.DataFrame(encoded))\n",
    "CICIDS_test_X=CICIDS_test_X.fillna(0, inplace= False)\n",
    "\n",
    "CICIDS_test_X.shape"
   ]
  },
  {
   "attachments": {},
   "cell_type": "markdown",
   "id": "5001d579",
   "metadata": {},
   "source": [
    "Proviamo XGBoost in un ambiente supervisionato."
   ]
  },
  {
   "cell_type": "code",
   "execution_count": 100,
   "id": "ebd39fd9",
   "metadata": {},
   "outputs": [],
   "source": [
    "xb=xgb.XGBClassifier(objective='binary:logistic', use_label_encoder=False)\n",
    "xb.fit(CICIDS_train_X, CICIDS_train_Y)\n",
    "predicted=xb.predict(CICIDS_test_X)"
   ]
  },
  {
   "cell_type": "code",
   "execution_count": 101,
   "id": "a14d6f4f",
   "metadata": {},
   "outputs": [
    {
     "name": "stdout",
     "output_type": "stream",
     "text": [
      "tp, tn, fp, fn, accuracy, mcc:\n"
     ]
    },
    {
     "data": {
      "text/plain": [
       "(50487, 26872, 303, 2337, 0.9669995874948437, 0.9291909071273011)"
      ]
     },
     "execution_count": 101,
     "metadata": {},
     "output_type": "execute_result"
    }
   ],
   "source": [
    "accuracy=accuracy_score(CICIDS_test_Y, predicted)\n",
    "tn, fp, fn, tp = confusion_matrix(CICIDS_test_Y, predicted).ravel()\n",
    "mcc=matthews_corrcoef(CICIDS_test_Y, predicted)\n",
    "print(\"tp, tn, fp, fn, accuracy, mcc:\")\n",
    "tp, tn, fp, fn, accuracy, mcc"
   ]
  },
  {
   "cell_type": "code",
   "execution_count": 102,
   "id": "b8f46282",
   "metadata": {},
   "outputs": [],
   "source": [
    "normal_in_training_set=np.unique(CICIDS_train_Y, return_counts=True)[1][0]\n",
    "original_attack_in_training_set=np.unique(CICIDS_train_Y, return_counts=True)[1][1]\n",
    "normal_in_test_set=np.unique(CICIDS_test_Y, return_counts=True)[1][0]\n",
    "attacks_in_test_set=np.unique(CICIDS_test_Y, return_counts=True)[1][1]\n",
    "\n",
    "cicids_competitors.write('CICIDS, '\n",
    "                       + 'all known, '\n",
    "                       + 'XGBoost, '\n",
    "                       + '0.6--0.4, '\n",
    "                       + str(normal_in_training_set) + ', '\n",
    "                       + str(original_attack_in_training_set) + ', ' + '0, '\n",
    "                       + str(normal_in_test_set) + ', '\n",
    "                       + str(attacks_in_test_set) + ', '\n",
    "                       + str(CICIDS_test_X.shape[1]) + ', '\n",
    "                       + ' NO GENERATED ATTACK, '\n",
    "                       + f'{tp}, {tn}, {fp}, {fn}, {accuracy:.4f}, {mcc:.4f}\\n')\n",
    "cicids_competitors.flush()"
   ]
  },
  {
   "attachments": {},
   "cell_type": "markdown",
   "id": "2485db86",
   "metadata": {},
   "source": [
    "**Adesso supponiamo di non avere conoscenza degli attacchi. Questo vuol dire che non c'è nessun attacco nel training set.**\n",
    "\n",
    "contamination è impostata a 0 (o a un valore di default se 0 non è accettato come valore), gli attacchi sono rimossi dal training set, e quindi questi si trovano solo nel test set d'ora in poi."
   ]
  },
  {
   "cell_type": "code",
   "execution_count": 103,
   "id": "4247e23c",
   "metadata": {},
   "outputs": [],
   "source": [
    "trainingX_Y=pd.concat([CICIDS_train_X, pd.DataFrame(CICIDS_train_Y, columns = ['label'])], axis=1)\n",
    "CICIDS_train_X_no_attack=trainingX_Y[trainingX_Y.label == 0]"
   ]
  },
  {
   "cell_type": "code",
   "execution_count": 104,
   "id": "97475cfc",
   "metadata": {},
   "outputs": [
    {
     "data": {
      "text/plain": [
       "((40319, 119), False)"
      ]
     },
     "execution_count": 104,
     "metadata": {},
     "output_type": "execute_result"
    }
   ],
   "source": [
    "CICIDS_train_X_no_attack=CICIDS_train_X_no_attack.drop(['label'], axis=1)\n",
    "CICIDS_train_X_no_attack.shape, np.any(np.isnan(CICIDS_train_X_no_attack))"
   ]
  },
  {
   "cell_type": "code",
   "execution_count": 105,
   "id": "afba7f3c",
   "metadata": {},
   "outputs": [],
   "source": [
    "missing_attacks=trainingX_Y[trainingX_Y['label']!=0]\n",
    "missing_attacks=missing_attacks.drop(['label'], axis=1)\n",
    "\n",
    "frames=[CICIDS_test_X, missing_attacks]\n",
    "CICIDS_test_X=pd.concat(frames).to_numpy()\n",
    "CICIDS_test_Y=np.hstack((CICIDS_test_Y.to_numpy(), np.ones((missing_attacks.to_numpy().shape[0]))))"
   ]
  },
  {
   "cell_type": "code",
   "execution_count": 106,
   "id": "7ba85324",
   "metadata": {},
   "outputs": [
    {
     "data": {
      "text/plain": [
       "array([1., 0., 0., ..., 1., 1., 1.])"
      ]
     },
     "execution_count": 106,
     "metadata": {},
     "output_type": "execute_result"
    }
   ],
   "source": [
    "CICIDS_test_Y"
   ]
  },
  {
   "cell_type": "code",
   "execution_count": 107,
   "id": "7144bb36",
   "metadata": {},
   "outputs": [
    {
     "data": {
      "text/plain": [
       "((159678,), (159678, 119))"
      ]
     },
     "execution_count": 107,
     "metadata": {},
     "output_type": "execute_result"
    }
   ],
   "source": [
    "CICIDS_test_Y.shape,CICIDS_test_X.shape"
   ]
  },
  {
   "cell_type": "code",
   "execution_count": 108,
   "id": "35eb99a1",
   "metadata": {},
   "outputs": [
    {
     "data": {
      "text/html": [
       "<div>\n",
       "<style scoped>\n",
       "    .dataframe tbody tr th:only-of-type {\n",
       "        vertical-align: middle;\n",
       "    }\n",
       "\n",
       "    .dataframe tbody tr th {\n",
       "        vertical-align: top;\n",
       "    }\n",
       "\n",
       "    .dataframe thead th {\n",
       "        text-align: right;\n",
       "    }\n",
       "</style>\n",
       "<table border=\"1\" class=\"dataframe\">\n",
       "  <thead>\n",
       "    <tr style=\"text-align: right;\">\n",
       "      <th></th>\n",
       "      <th>Protocol</th>\n",
       "      <th>Flow_Duration</th>\n",
       "      <th>Tot_Fwd_Pkts</th>\n",
       "      <th>Tot_Bwd_Pkts</th>\n",
       "      <th>TotLen_Fwd_Pkts</th>\n",
       "      <th>TotLen_Bwd_Pkts</th>\n",
       "      <th>Fwd_Pkt_Len_Max</th>\n",
       "      <th>Fwd_Pkt_Len_Min</th>\n",
       "      <th>Fwd_Pkt_Len_Mean</th>\n",
       "      <th>Fwd_Pkt_Len_Std</th>\n",
       "      <th>...</th>\n",
       "      <th>32</th>\n",
       "      <th>33</th>\n",
       "      <th>34</th>\n",
       "      <th>35</th>\n",
       "      <th>36</th>\n",
       "      <th>37</th>\n",
       "      <th>38</th>\n",
       "      <th>39</th>\n",
       "      <th>40</th>\n",
       "      <th>41</th>\n",
       "    </tr>\n",
       "  </thead>\n",
       "  <tbody>\n",
       "    <tr>\n",
       "      <th>3727</th>\n",
       "      <td>6</td>\n",
       "      <td>3503945</td>\n",
       "      <td>5</td>\n",
       "      <td>3</td>\n",
       "      <td>935</td>\n",
       "      <td>326</td>\n",
       "      <td>935</td>\n",
       "      <td>0</td>\n",
       "      <td>187.000000</td>\n",
       "      <td>418.144712</td>\n",
       "      <td>...</td>\n",
       "      <td>0.0</td>\n",
       "      <td>0.0</td>\n",
       "      <td>0.0</td>\n",
       "      <td>0.0</td>\n",
       "      <td>1.0</td>\n",
       "      <td>1.0</td>\n",
       "      <td>1.0</td>\n",
       "      <td>1.0</td>\n",
       "      <td>1.0</td>\n",
       "      <td>1.0</td>\n",
       "    </tr>\n",
       "    <tr>\n",
       "      <th>54381</th>\n",
       "      <td>6</td>\n",
       "      <td>117842138</td>\n",
       "      <td>22</td>\n",
       "      <td>20</td>\n",
       "      <td>2766</td>\n",
       "      <td>1205</td>\n",
       "      <td>539</td>\n",
       "      <td>0</td>\n",
       "      <td>125.727273</td>\n",
       "      <td>227.322339</td>\n",
       "      <td>...</td>\n",
       "      <td>0.0</td>\n",
       "      <td>0.0</td>\n",
       "      <td>0.0</td>\n",
       "      <td>0.0</td>\n",
       "      <td>1.0</td>\n",
       "      <td>1.0</td>\n",
       "      <td>1.0</td>\n",
       "      <td>1.0</td>\n",
       "      <td>1.0</td>\n",
       "      <td>1.0</td>\n",
       "    </tr>\n",
       "    <tr>\n",
       "      <th>33612</th>\n",
       "      <td>17</td>\n",
       "      <td>360</td>\n",
       "      <td>1</td>\n",
       "      <td>1</td>\n",
       "      <td>36</td>\n",
       "      <td>68</td>\n",
       "      <td>36</td>\n",
       "      <td>36</td>\n",
       "      <td>36.000000</td>\n",
       "      <td>0.000000</td>\n",
       "      <td>...</td>\n",
       "      <td>0.0</td>\n",
       "      <td>0.0</td>\n",
       "      <td>0.0</td>\n",
       "      <td>0.0</td>\n",
       "      <td>1.0</td>\n",
       "      <td>1.0</td>\n",
       "      <td>1.0</td>\n",
       "      <td>1.0</td>\n",
       "      <td>1.0</td>\n",
       "      <td>1.0</td>\n",
       "    </tr>\n",
       "    <tr>\n",
       "      <th>109677</th>\n",
       "      <td>17</td>\n",
       "      <td>324</td>\n",
       "      <td>1</td>\n",
       "      <td>1</td>\n",
       "      <td>36</td>\n",
       "      <td>164</td>\n",
       "      <td>36</td>\n",
       "      <td>36</td>\n",
       "      <td>36.000000</td>\n",
       "      <td>0.000000</td>\n",
       "      <td>...</td>\n",
       "      <td>0.0</td>\n",
       "      <td>0.0</td>\n",
       "      <td>0.0</td>\n",
       "      <td>0.0</td>\n",
       "      <td>1.0</td>\n",
       "      <td>1.0</td>\n",
       "      <td>1.0</td>\n",
       "      <td>1.0</td>\n",
       "      <td>1.0</td>\n",
       "      <td>1.0</td>\n",
       "    </tr>\n",
       "    <tr>\n",
       "      <th>34450</th>\n",
       "      <td>6</td>\n",
       "      <td>4994533</td>\n",
       "      <td>5</td>\n",
       "      <td>3</td>\n",
       "      <td>935</td>\n",
       "      <td>318</td>\n",
       "      <td>935</td>\n",
       "      <td>0</td>\n",
       "      <td>187.000000</td>\n",
       "      <td>418.144712</td>\n",
       "      <td>...</td>\n",
       "      <td>0.0</td>\n",
       "      <td>0.0</td>\n",
       "      <td>0.0</td>\n",
       "      <td>0.0</td>\n",
       "      <td>1.0</td>\n",
       "      <td>1.0</td>\n",
       "      <td>1.0</td>\n",
       "      <td>1.0</td>\n",
       "      <td>1.0</td>\n",
       "      <td>1.0</td>\n",
       "    </tr>\n",
       "    <tr>\n",
       "      <th>...</th>\n",
       "      <td>...</td>\n",
       "      <td>...</td>\n",
       "      <td>...</td>\n",
       "      <td>...</td>\n",
       "      <td>...</td>\n",
       "      <td>...</td>\n",
       "      <td>...</td>\n",
       "      <td>...</td>\n",
       "      <td>...</td>\n",
       "      <td>...</td>\n",
       "      <td>...</td>\n",
       "      <td>...</td>\n",
       "      <td>...</td>\n",
       "      <td>...</td>\n",
       "      <td>...</td>\n",
       "      <td>...</td>\n",
       "      <td>...</td>\n",
       "      <td>...</td>\n",
       "      <td>...</td>\n",
       "      <td>...</td>\n",
       "      <td>...</td>\n",
       "    </tr>\n",
       "    <tr>\n",
       "      <th>55577</th>\n",
       "      <td>6</td>\n",
       "      <td>4383528</td>\n",
       "      <td>5</td>\n",
       "      <td>4</td>\n",
       "      <td>935</td>\n",
       "      <td>666</td>\n",
       "      <td>935</td>\n",
       "      <td>0</td>\n",
       "      <td>187.000000</td>\n",
       "      <td>418.144712</td>\n",
       "      <td>...</td>\n",
       "      <td>0.0</td>\n",
       "      <td>0.0</td>\n",
       "      <td>0.0</td>\n",
       "      <td>0.0</td>\n",
       "      <td>1.0</td>\n",
       "      <td>1.0</td>\n",
       "      <td>1.0</td>\n",
       "      <td>1.0</td>\n",
       "      <td>1.0</td>\n",
       "      <td>1.0</td>\n",
       "    </tr>\n",
       "    <tr>\n",
       "      <th>138054</th>\n",
       "      <td>6</td>\n",
       "      <td>15</td>\n",
       "      <td>1</td>\n",
       "      <td>1</td>\n",
       "      <td>0</td>\n",
       "      <td>0</td>\n",
       "      <td>0</td>\n",
       "      <td>0</td>\n",
       "      <td>0.000000</td>\n",
       "      <td>0.000000</td>\n",
       "      <td>...</td>\n",
       "      <td>0.0</td>\n",
       "      <td>0.0</td>\n",
       "      <td>0.0</td>\n",
       "      <td>0.0</td>\n",
       "      <td>0.0</td>\n",
       "      <td>0.0</td>\n",
       "      <td>0.0</td>\n",
       "      <td>0.0</td>\n",
       "      <td>0.0</td>\n",
       "      <td>0.0</td>\n",
       "    </tr>\n",
       "    <tr>\n",
       "      <th>46580</th>\n",
       "      <td>6</td>\n",
       "      <td>4403468</td>\n",
       "      <td>5</td>\n",
       "      <td>3</td>\n",
       "      <td>935</td>\n",
       "      <td>302</td>\n",
       "      <td>935</td>\n",
       "      <td>0</td>\n",
       "      <td>187.000000</td>\n",
       "      <td>418.144712</td>\n",
       "      <td>...</td>\n",
       "      <td>0.0</td>\n",
       "      <td>0.0</td>\n",
       "      <td>0.0</td>\n",
       "      <td>0.0</td>\n",
       "      <td>1.0</td>\n",
       "      <td>1.0</td>\n",
       "      <td>1.0</td>\n",
       "      <td>1.0</td>\n",
       "      <td>1.0</td>\n",
       "      <td>1.0</td>\n",
       "    </tr>\n",
       "    <tr>\n",
       "      <th>61919</th>\n",
       "      <td>6</td>\n",
       "      <td>4539635</td>\n",
       "      <td>5</td>\n",
       "      <td>3</td>\n",
       "      <td>935</td>\n",
       "      <td>341</td>\n",
       "      <td>935</td>\n",
       "      <td>0</td>\n",
       "      <td>187.000000</td>\n",
       "      <td>418.144712</td>\n",
       "      <td>...</td>\n",
       "      <td>0.0</td>\n",
       "      <td>0.0</td>\n",
       "      <td>0.0</td>\n",
       "      <td>0.0</td>\n",
       "      <td>1.0</td>\n",
       "      <td>1.0</td>\n",
       "      <td>1.0</td>\n",
       "      <td>1.0</td>\n",
       "      <td>1.0</td>\n",
       "      <td>1.0</td>\n",
       "    </tr>\n",
       "    <tr>\n",
       "      <th>85220</th>\n",
       "      <td>6</td>\n",
       "      <td>4370790</td>\n",
       "      <td>4</td>\n",
       "      <td>5</td>\n",
       "      <td>935</td>\n",
       "      <td>314</td>\n",
       "      <td>935</td>\n",
       "      <td>0</td>\n",
       "      <td>233.750000</td>\n",
       "      <td>467.500000</td>\n",
       "      <td>...</td>\n",
       "      <td>0.0</td>\n",
       "      <td>0.0</td>\n",
       "      <td>0.0</td>\n",
       "      <td>0.0</td>\n",
       "      <td>1.0</td>\n",
       "      <td>1.0</td>\n",
       "      <td>1.0</td>\n",
       "      <td>1.0</td>\n",
       "      <td>1.0</td>\n",
       "      <td>1.0</td>\n",
       "    </tr>\n",
       "  </tbody>\n",
       "</table>\n",
       "<p>40319 rows × 119 columns</p>\n",
       "</div>"
      ],
      "text/plain": [
       "        Protocol  Flow_Duration  Tot_Fwd_Pkts  Tot_Bwd_Pkts  TotLen_Fwd_Pkts  \\\n",
       "3727           6        3503945             5             3              935   \n",
       "54381          6      117842138            22            20             2766   \n",
       "33612         17            360             1             1               36   \n",
       "109677        17            324             1             1               36   \n",
       "34450          6        4994533             5             3              935   \n",
       "...          ...            ...           ...           ...              ...   \n",
       "55577          6        4383528             5             4              935   \n",
       "138054         6             15             1             1                0   \n",
       "46580          6        4403468             5             3              935   \n",
       "61919          6        4539635             5             3              935   \n",
       "85220          6        4370790             4             5              935   \n",
       "\n",
       "        TotLen_Bwd_Pkts  Fwd_Pkt_Len_Max  Fwd_Pkt_Len_Min  Fwd_Pkt_Len_Mean  \\\n",
       "3727                326              935                0        187.000000   \n",
       "54381              1205              539                0        125.727273   \n",
       "33612                68               36               36         36.000000   \n",
       "109677              164               36               36         36.000000   \n",
       "34450               318              935                0        187.000000   \n",
       "...                 ...              ...              ...               ...   \n",
       "55577               666              935                0        187.000000   \n",
       "138054                0                0                0          0.000000   \n",
       "46580               302              935                0        187.000000   \n",
       "61919               341              935                0        187.000000   \n",
       "85220               314              935                0        233.750000   \n",
       "\n",
       "        Fwd_Pkt_Len_Std  ...   32   33   34   35   36   37   38   39   40   41  \n",
       "3727         418.144712  ...  0.0  0.0  0.0  0.0  1.0  1.0  1.0  1.0  1.0  1.0  \n",
       "54381        227.322339  ...  0.0  0.0  0.0  0.0  1.0  1.0  1.0  1.0  1.0  1.0  \n",
       "33612          0.000000  ...  0.0  0.0  0.0  0.0  1.0  1.0  1.0  1.0  1.0  1.0  \n",
       "109677         0.000000  ...  0.0  0.0  0.0  0.0  1.0  1.0  1.0  1.0  1.0  1.0  \n",
       "34450        418.144712  ...  0.0  0.0  0.0  0.0  1.0  1.0  1.0  1.0  1.0  1.0  \n",
       "...                 ...  ...  ...  ...  ...  ...  ...  ...  ...  ...  ...  ...  \n",
       "55577        418.144712  ...  0.0  0.0  0.0  0.0  1.0  1.0  1.0  1.0  1.0  1.0  \n",
       "138054         0.000000  ...  0.0  0.0  0.0  0.0  0.0  0.0  0.0  0.0  0.0  0.0  \n",
       "46580        418.144712  ...  0.0  0.0  0.0  0.0  1.0  1.0  1.0  1.0  1.0  1.0  \n",
       "61919        418.144712  ...  0.0  0.0  0.0  0.0  1.0  1.0  1.0  1.0  1.0  1.0  \n",
       "85220        467.500000  ...  0.0  0.0  0.0  0.0  1.0  1.0  1.0  1.0  1.0  1.0  \n",
       "\n",
       "[40319 rows x 119 columns]"
      ]
     },
     "execution_count": 108,
     "metadata": {},
     "output_type": "execute_result"
    }
   ],
   "source": [
    "CICIDS_train_X_no_attack"
   ]
  },
  {
   "cell_type": "code",
   "execution_count": 109,
   "id": "1d25aae2",
   "metadata": {},
   "outputs": [],
   "source": [
    "#save data in one hot encoding\n",
    "np.save(PATH+'/train_X_no_attack', CICIDS_train_X_no_attack )\n",
    "np.save(PATH+'/test_X', CICIDS_test_X)\n",
    "np.save(PATH+'/test_Y', CICIDS_test_Y )"
   ]
  },
  {
   "cell_type": "code",
   "execution_count": 110,
   "id": "bd67ebb9",
   "metadata": {},
   "outputs": [],
   "source": [
    "trainingX_Y=pd.concat([CICIDS_train_X_no_oneHot, pd.DataFrame(CICIDS_train_Y, columns = ['label'])], axis=1)\n",
    "CICIDS_train_X_no_oneHot=trainingX_Y[trainingX_Y.label == 0]\n",
    "\n",
    "CICIDS_train_X_no_oneHot=CICIDS_train_X_no_oneHot.drop(['label'], axis=1)\n",
    "CICIDS_train_X_no_attack.shape\n",
    "\n",
    "missing_attacks=trainingX_Y[trainingX_Y['label']!=0]\n",
    "missing_attacks=missing_attacks.drop(['label'], axis=1)\n",
    "frames=[CICIDS_test_X_no_oneHot, missing_attacks]\n",
    "CICIDS_test_X_no_oneHot=pd.concat(frames)\n",
    "CICIDS_test_Y_no_oneHot=np.hstack((CICIDS_test_Y_no_oneHot.to_numpy(), np.ones((missing_attacks.to_numpy().shape[0]))))\n",
    "\n",
    "#save data WITHOUT one hot encoding (needed for ARN)\n",
    "CICIDS_train_X_no_oneHot.to_pickle(PATH+'/train_X_no_attack_no_one_hot_encoding.pkl')\n",
    "np.save(PATH+'/train_Y_no_attack_no_one_hot_encoding',np.zeros((CICIDS_train_X_no_oneHot.shape[0],)))\n",
    "\n",
    "CICIDS_test_X_no_oneHot.to_pickle(PATH+'/test_X_no_one_hot_encoding.pkl' )\n",
    "np.save(PATH+'/test_Y_no_one_hot_encoding', CICIDS_test_Y_no_oneHot )"
   ]
  },
  {
   "cell_type": "code",
   "execution_count": 111,
   "id": "01a566c4",
   "metadata": {},
   "outputs": [
    {
     "data": {
      "text/plain": [
       "array([0., 1.])"
      ]
     },
     "execution_count": 111,
     "metadata": {},
     "output_type": "execute_result"
    }
   ],
   "source": [
    "np.unique(CICIDS_test_Y_no_oneHot)"
   ]
  },
  {
   "cell_type": "code",
   "execution_count": 112,
   "id": "9bf221f3",
   "metadata": {},
   "outputs": [
    {
     "data": {
      "text/plain": [
       "((159678,), (159678, 77))"
      ]
     },
     "execution_count": 112,
     "metadata": {},
     "output_type": "execute_result"
    }
   ],
   "source": [
    "CICIDS_test_Y_no_oneHot.shape, CICIDS_test_X_no_oneHot.shape"
   ]
  },
  {
   "attachments": {},
   "cell_type": "markdown",
   "id": "8f1ddd82",
   "metadata": {},
   "source": [
    "### ALAD\n",
    "Adesso utilizziamo **ALAD (eGAN)**.\n",
    "\n",
    "I dati generati si trovano in: '/home/polazzi/eGAN/Efficient-GAN-Anomaly-Detection/data/cicids_generated_attacks.npy'"
   ]
  },
  {
   "cell_type": "code",
   "execution_count": 113,
   "id": "d1652fed",
   "metadata": {},
   "outputs": [],
   "source": [
    "generated_attacks=np.load('/home/polazzi/eGAN/Efficient-GAN-Anomaly-Detection/data/cicids_generated_attacks.npy')"
   ]
  },
  {
   "cell_type": "code",
   "execution_count": 114,
   "id": "518e46e0",
   "metadata": {},
   "outputs": [],
   "source": [
    "CICIDS_train_X_no_attack=np.load(PATH+'/train_X_no_attack.npy')\n",
    "CICIDS_test_X=np.load(PATH+'/test_X.npy')\n",
    "CICIDS_test_Y=np.load(PATH+'/test_Y.npy')"
   ]
  },
  {
   "cell_type": "code",
   "execution_count": 115,
   "id": "1d91c090",
   "metadata": {},
   "outputs": [
    {
     "data": {
      "text/plain": [
       "(False, False)"
      ]
     },
     "execution_count": 115,
     "metadata": {},
     "output_type": "execute_result"
    }
   ],
   "source": [
    "np.any(np.isnan(generated_attacks)), np.any(np.isnan(CICIDS_train_X_no_attack))"
   ]
  },
  {
   "cell_type": "code",
   "execution_count": 116,
   "id": "ecb7a186",
   "metadata": {},
   "outputs": [
    {
     "data": {
      "text/plain": [
       "((40319, 119), (159678, 119), (50000, 119))"
      ]
     },
     "execution_count": 116,
     "metadata": {},
     "output_type": "execute_result"
    }
   ],
   "source": [
    "CICIDS_train_X_no_attack.shape, CICIDS_test_X.shape, generated_attacks.shape"
   ]
  },
  {
   "attachments": {},
   "cell_type": "markdown",
   "id": "9f98d615",
   "metadata": {},
   "source": [
    "First, we use the generated attacks without any kind of optimization or improvement of data quality."
   ]
  },
  {
   "cell_type": "code",
   "execution_count": 117,
   "id": "0d8994de",
   "metadata": {},
   "outputs": [
    {
     "data": {
      "text/plain": [
       "(50000, 119)"
      ]
     },
     "execution_count": 117,
     "metadata": {},
     "output_type": "execute_result"
    }
   ],
   "source": [
    "X_ood=generated_attacks\n",
    "X_ood.shape"
   ]
  },
  {
   "cell_type": "code",
   "execution_count": 118,
   "id": "daf45e84",
   "metadata": {},
   "outputs": [],
   "source": [
    "CICIDS_train_X__no_attacks_augmented=np.vstack((CICIDS_train_X_no_attack, X_ood))\n",
    "CICIDS_train_Y__no_attacks_augmented=np.vstack((np.zeros((CICIDS_train_X_no_attack.shape[0],1)),\n",
    "                                                 np.ones((X_ood.shape[0], 1))))"
   ]
  },
  {
   "cell_type": "code",
   "execution_count": 119,
   "id": "4c62975a",
   "metadata": {
    "scrolled": true
   },
   "outputs": [
    {
     "name": "stdout",
     "output_type": "stream",
     "text": [
      "tp, tn, fp, fn, accuracy, mcc:\n",
      "0, 27175, 0, 132503, 0.1701862498277784, 0.0\n"
     ]
    }
   ],
   "source": [
    "xb=xgb.XGBClassifier(objective='binary:logistic', use_label_encoder=False)\n",
    "\n",
    "xb.fit(CICIDS_train_X__no_attacks_augmented, CICIDS_train_Y__no_attacks_augmented)\n",
    "predicted=xb.predict(CICIDS_test_X)\n",
    "\n",
    "accuracy=accuracy_score(CICIDS_test_Y, predicted)\n",
    "tn, fp, fn, tp = confusion_matrix(CICIDS_test_Y, predicted).ravel()\n",
    "mcc=matthews_corrcoef(CICIDS_test_Y, predicted)\n",
    "\n",
    "print(f'tp, tn, fp, fn, accuracy, mcc:\\n{tp}, {tn}, {fp}, {fn}, {accuracy}, {mcc}')"
   ]
  },
  {
   "cell_type": "code",
   "execution_count": 120,
   "id": "e08acd67",
   "metadata": {},
   "outputs": [],
   "source": [
    "normal_in_training_set=np.unique(CICIDS_train_X_no_attack.shape[0])\n",
    "original_attack_in_training_set=0\n",
    "normal_in_test_set=np.unique(CICIDS_test_Y, return_counts=True)[1][0]\n",
    "attacks_in_test_set=np.unique(CICIDS_test_Y, return_counts=True)[1][1]\n",
    "generated_attacks=X_ood.shape[0]\n",
    "\n",
    "cicids_competitors.write('CICIDS, '\n",
    "                       + 'ALAD (eGAN) '\n",
    "                       + '- 500 epochs, '\n",
    "                       + 'XGBoost, '\n",
    "                       + '0.6--0.4, '\n",
    "                       + str(normal_in_training_set) + ', '\n",
    "                       + str(original_attack_in_training_set) + ', '\n",
    "                       + str(generated_attacks) + ', '\n",
    "                       + str(normal_in_test_set) + ', '\n",
    "                       + str(attacks_in_test_set) + ', '\n",
    "                       + str(CICIDS_test_X.shape[1]) + ', '\n",
    "                       + ' NO AUGMENTATION, '\n",
    "                       + f'{tp}, {tn}, {fp}, {fn}, {accuracy:.4f}, {mcc:.4f}\\n')\n",
    "cicids_competitors.flush()"
   ]
  },
  {
   "cell_type": "code",
   "execution_count": 121,
   "id": "a152e475",
   "metadata": {},
   "outputs": [
    {
     "data": {
      "text/plain": [
       "(0.16666666666666669, (8063, 119))"
      ]
     },
     "execution_count": 121,
     "metadata": {},
     "output_type": "execute_result"
    }
   ],
   "source": [
    "contamination=0.2\n",
    "\n",
    "total=int(CICIDS_train_X_no_attack.shape[0]*contamination)\n",
    "if(total > X_ood.shape[0]):\n",
    "    print(\"contamination is larger than the available attacks.\")\n",
    "    sys.exit(0)\n",
    "\n",
    "idx = np.random.randint(X_ood.shape[0], size=total)\n",
    "attacks=X_ood[idx,:]\n",
    "CICIDS_train_X__no_attacks_augmented=np.vstack((CICIDS_train_X_no_attack, attacks))\n",
    "CICIDS_train_Y__no_attacks_augmented=np.vstack((np.zeros((CICIDS_train_X_no_attack.shape[0], 1)),\n",
    "                                                 np.ones((attacks.shape[0],1))))\n",
    "                                                 \n",
    "contamination=contamination/(1+contamination)\n",
    "                                                 \n",
    "contamination, attacks.shape"
   ]
  },
  {
   "cell_type": "code",
   "execution_count": 122,
   "id": "3a91b753",
   "metadata": {},
   "outputs": [
    {
     "data": {
      "text/plain": [
       "array([6.00000000e+00, 3.50394500e+06, 5.00000000e+00, 3.00000000e+00,\n",
       "       9.35000000e+02, 3.26000000e+02, 9.35000000e+02, 0.00000000e+00,\n",
       "       1.87000000e+02, 4.18144712e+02, 3.26000000e+02, 0.00000000e+00,\n",
       "       1.08666667e+02, 1.88216188e+02, 3.59880078e+02, 2.28314086e+00,\n",
       "       5.00563571e+05, 1.27608149e+06, 3.39377000e+06, 4.00000000e+00,\n",
       "       3.50394500e+06, 8.75986250e+05, 1.67878167e+06, 3.39377600e+06,\n",
       "       3.20000000e+01, 7.16640000e+04, 3.58320000e+04, 5.02795348e+04,\n",
       "       7.13850000e+04, 2.79000000e+02, 0.00000000e+00, 0.00000000e+00,\n",
       "       0.00000000e+00, 0.00000000e+00, 1.68000000e+02, 1.04000000e+02,\n",
       "       1.42696304e+00, 8.56177822e-01, 0.00000000e+00, 9.35000000e+02,\n",
       "       1.40111111e+02, 3.16982036e+02, 1.00477611e+05, 0.00000000e+00,\n",
       "       0.00000000e+00, 0.00000000e+00, 0.00000000e+00, 1.00000000e+00,\n",
       "       0.00000000e+00, 0.00000000e+00, 0.00000000e+00, 0.00000000e+00,\n",
       "       1.57625000e+02, 1.87000000e+02, 1.08666667e+02, 0.00000000e+00,\n",
       "       0.00000000e+00, 0.00000000e+00, 0.00000000e+00, 0.00000000e+00,\n",
       "       0.00000000e+00, 5.00000000e+00, 9.35000000e+02, 3.00000000e+00,\n",
       "       3.26000000e+02, 2.37000000e+02, 2.11000000e+02, 1.00000000e+00,\n",
       "       3.20000000e+01, 0.00000000e+00, 0.00000000e+00, 0.00000000e+00,\n",
       "       0.00000000e+00, 0.00000000e+00, 0.00000000e+00, 0.00000000e+00,\n",
       "       0.00000000e+00, 0.00000000e+00, 1.00000000e+00, 0.00000000e+00,\n",
       "       1.00000000e+00, 0.00000000e+00, 1.00000000e+00, 1.00000000e+00,\n",
       "       0.00000000e+00, 1.00000000e+00, 1.00000000e+00, 0.00000000e+00,\n",
       "       1.00000000e+00, 0.00000000e+00, 1.00000000e+00, 0.00000000e+00,\n",
       "       1.00000000e+00, 0.00000000e+00, 0.00000000e+00, 1.00000000e+00,\n",
       "       1.00000000e+00, 0.00000000e+00, 1.00000000e+00, 0.00000000e+00,\n",
       "       1.00000000e+00, 0.00000000e+00, 1.00000000e+00, 0.00000000e+00,\n",
       "       0.00000000e+00, 0.00000000e+00, 0.00000000e+00, 0.00000000e+00,\n",
       "       0.00000000e+00, 0.00000000e+00, 0.00000000e+00, 0.00000000e+00,\n",
       "       0.00000000e+00, 1.00000000e+00, 1.00000000e+00, 1.00000000e+00,\n",
       "       1.00000000e+00, 1.00000000e+00, 1.00000000e+00])"
      ]
     },
     "execution_count": 122,
     "metadata": {},
     "output_type": "execute_result"
    }
   ],
   "source": [
    "CICIDS_train_X__no_attacks_augmented[0]"
   ]
  },
  {
   "cell_type": "code",
   "execution_count": 124,
   "id": "f208659d",
   "metadata": {},
   "outputs": [
    {
     "name": "stdout",
     "output_type": "stream",
     "text": [
      "tp, tn, fp, fn, accuracy, mcc:\n",
      "43815, 22702, 4473, 88688, 0.41656959631257906, 0.1358786383614198\n"
     ]
    }
   ],
   "source": [
    "isol_1=IsolationForest(n_estimators=800,\n",
    "                         max_samples=400,\n",
    "                         contamination=contamination,\n",
    "                         max_features=1.0,\n",
    "                         bootstrap=False,\n",
    "                         n_jobs=12,warm_start=False).fit(CICIDS_train_X__no_attacks_augmented)\n",
    "\n",
    "predicted=isol_1.predict(CICIDS_test_X)\n",
    "\n",
    "Y=CICIDS_test_Y\n",
    "predicted=np.where(predicted==-1, 1, 0)\n",
    "accuracy=accuracy_score(Y, predicted)\n",
    "mcc=matthews_corrcoef(Y, predicted)\n",
    "tn, fp, fn, tp= confusion_matrix(Y, predicted).ravel()\n",
    "\n",
    "print(f'tp, tn, fp, fn, accuracy, mcc:\\n{tp}, {tn}, {fp}, {fn}, {accuracy}, {mcc}')"
   ]
  },
  {
   "cell_type": "code",
   "execution_count": 42,
   "id": "ca01a383",
   "metadata": {},
   "outputs": [],
   "source": [
    "normal_in_training_set=np.unique(CICIDS_train_X_no_attack.shape[0])\n",
    "original_attack_in_training_set=0\n",
    "normal_in_test_set=np.unique(CICIDS_test_Y, return_counts=True)[1][0]\n",
    "attacks_in_test_set=np.unique(CICIDS_test_Y, return_counts=True)[1][1]\n",
    "generated_attacks=X_ood.shape[0]\n",
    "\n",
    "cicids_competitors.write('CICIDS, '\n",
    "                       + 'ALAD (eGAN) '\n",
    "                       + '- 500 epochs, '\n",
    "                       + 'Isolation Forest, '\n",
    "                       + '0.6--0.4, '\n",
    "                       + str(normal_in_training_set) + ', '\n",
    "                       + str(original_attack_in_training_set) + ', '\n",
    "                       + str(generated_attacks) + ', '\n",
    "                       + str(normal_in_test_set) + ', '\n",
    "                       + str(attacks_in_test_set) + ', '\n",
    "                       + str(CICIDS_test_X.shape[1]) + ', '\n",
    "                       + ' NO AUGMENTATION, '\n",
    "                       + f'{tp}, {tn}, {fp}, {fn}, {accuracy:.4f}, {mcc:.4f}\\n')\n",
    "\n",
    "cicids_competitors.flush()"
   ]
  },
  {
   "attachments": {},
   "cell_type": "markdown",
   "id": "883d8bfd",
   "metadata": {},
   "source": [
    "### ARN - Adversarial Regularized Reconstruction for Anomaly Detection and Generation\n",
    "\n",
    "To generate attacks and get results from ARN, execute the notebook: './arn/GENERATION_KDDCUP99REV/CICDS-ARN_CICIDS_REV_Generation.ipynb'\n",
    "\n",
    "It saves the file with the created data in '/home/polazzi/arn/CICIDS/generated_attacks.npy'\n",
    "\n",
    "With respect to the other, there is a mandatory step of one-hot encoding and normalization of data. This seems to help a lot the algorithm (but not other algorithms as XGBoost, apparently)."
   ]
  },
  {
   "attachments": {},
   "cell_type": "markdown",
   "id": "3ab9fcbf",
   "metadata": {},
   "source": [
    "Ha bisogno anche di creare un train e test set nello stesso modo. Per questa ragione, importiamo lo stesso meotodo di creazione usato in ARN."
   ]
  },
  {
   "cell_type": "code",
   "execution_count": 16,
   "id": "bbbb99c3",
   "metadata": {},
   "outputs": [],
   "source": [
    "generated_attacks=np.load('/home/polazzi/arn/cicids/generated_attacks.npy')"
   ]
  },
  {
   "cell_type": "code",
   "execution_count": 17,
   "id": "2ab43f09",
   "metadata": {},
   "outputs": [],
   "source": [
    "x_train=np.load(PATH+'/ARN_x_train.npy')\n",
    "x_test=np.load(PATH+'/ARN_x_test.npy')\n",
    "y_train=np.load(PATH+'/ARN_y_train.npy')\n",
    "y_test=np.load(PATH+'/ARN_y_test.npy')"
   ]
  },
  {
   "cell_type": "code",
   "execution_count": 18,
   "id": "ae1b798b",
   "metadata": {},
   "outputs": [
    {
     "data": {
      "text/plain": [
       "((40319, 101), (159678, 101))"
      ]
     },
     "execution_count": 18,
     "metadata": {},
     "output_type": "execute_result"
    }
   ],
   "source": [
    "x_train.shape, x_test.shape"
   ]
  },
  {
   "cell_type": "code",
   "execution_count": 19,
   "id": "8ce75d2b",
   "metadata": {},
   "outputs": [
    {
     "data": {
      "text/plain": [
       "(159678, 77)"
      ]
     },
     "execution_count": 19,
     "metadata": {},
     "output_type": "execute_result"
    }
   ],
   "source": [
    "pd.read_pickle('/home/polazzi/datasets/cicids/test_X_no_one_hot_encoding.pkl').shape"
   ]
  },
  {
   "cell_type": "code",
   "execution_count": 20,
   "id": "64057a9e",
   "metadata": {},
   "outputs": [],
   "source": [
    "x_train_augmented=np.vstack((x_train,generated_attacks))\n",
    "\n",
    "y_train_augmented=np.hstack((y_train,\n",
    "                             np.ones(generated_attacks.shape[0],)))"
   ]
  },
  {
   "cell_type": "code",
   "execution_count": 21,
   "id": "31298e63",
   "metadata": {},
   "outputs": [
    {
     "data": {
      "text/plain": [
       "array([0., 0., 0., ..., 1., 1., 1.])"
      ]
     },
     "execution_count": 21,
     "metadata": {},
     "output_type": "execute_result"
    }
   ],
   "source": [
    "y_train_augmented"
   ]
  },
  {
   "cell_type": "code",
   "execution_count": 22,
   "id": "d91544c2",
   "metadata": {},
   "outputs": [
    {
     "name": "stdout",
     "output_type": "stream",
     "text": [
      "tp, tn, fp, fn, accuracy, mcc:\n",
      "0, 27175, 0, 132503, 0.1701862498277784, 0.0\n"
     ]
    }
   ],
   "source": [
    "xb=xgb.XGBClassifier(objective='binary:logistic', \n",
    "                     use_label_encoder=False )\n",
    "\n",
    "xb.fit(x_train_augmented, \n",
    "       y_train_augmented)\n",
    "\n",
    "predicted=xb.predict(x_test)\n",
    "\n",
    "accuracy=accuracy_score(y_test, predicted)\n",
    "tn, fp, fn, tp = confusion_matrix(y_test, predicted).ravel()\n",
    "mcc=matthews_corrcoef(y_test, predicted)\n",
    "\n",
    "print(f'tp, tn, fp, fn, accuracy, mcc:\\n{tp}, {tn}, {fp}, {fn}, {accuracy}, {mcc}')"
   ]
  },
  {
   "cell_type": "code",
   "execution_count": 25,
   "id": "868f9056",
   "metadata": {},
   "outputs": [
    {
     "ename": "NameError",
     "evalue": "name 'CICIDS_test_X' is not defined",
     "output_type": "error",
     "traceback": [
      "\u001b[0;31m---------------------------------------------------------------------------\u001b[0m",
      "\u001b[0;31mNameError\u001b[0m                                 Traceback (most recent call last)",
      "\u001b[0;32m/tmp/ipykernel_7456/1142748289.py\u001b[0m in \u001b[0;36m<module>\u001b[0;34m\u001b[0m\n\u001b[1;32m     17\u001b[0m                        \u001b[0;34m+\u001b[0m \u001b[0mstr\u001b[0m\u001b[0;34m(\u001b[0m\u001b[0mCICIDS_test_X\u001b[0m\u001b[0;34m.\u001b[0m\u001b[0mshape\u001b[0m\u001b[0;34m[\u001b[0m\u001b[0;36m1\u001b[0m\u001b[0;34m]\u001b[0m\u001b[0;34m)\u001b[0m \u001b[0;34m+\u001b[0m \u001b[0;34m', '\u001b[0m\u001b[0;34m\u001b[0m\u001b[0;34m\u001b[0m\u001b[0m\n\u001b[1;32m     18\u001b[0m                        \u001b[0;34m+\u001b[0m \u001b[0;34m' NO AUGMENTATION, '\u001b[0m\u001b[0;34m\u001b[0m\u001b[0;34m\u001b[0m\u001b[0m\n\u001b[0;32m---> 19\u001b[0;31m                        + f'{tp}, {tn}, {fp}, {fn}, {accuracy:.4f}, {mcc:.4f}\\n')\n\u001b[0m\u001b[1;32m     20\u001b[0m \u001b[0mcicids_competitors\u001b[0m\u001b[0;34m.\u001b[0m\u001b[0mflush\u001b[0m\u001b[0;34m(\u001b[0m\u001b[0;34m)\u001b[0m\u001b[0;34m\u001b[0m\u001b[0;34m\u001b[0m\u001b[0m\n",
      "\u001b[0;31mNameError\u001b[0m: name 'CICIDS_test_X' is not defined"
     ]
    }
   ],
   "source": [
    "normal_in_training_set=np.unique(x_train.shape[0])\n",
    "original_attack_in_training_set=0\n",
    "normal_in_test_set=np.unique(y_test, return_counts=True)[1][0]\n",
    "attacks_in_test_set=np.unique(y_test, return_counts=True)[1][1]\n",
    "ga=generated_attacks.shape[0]\n",
    "\n",
    "cicids_competitors.write('CICIDS, '\n",
    "                       + 'ARN '\n",
    "                       + '- 200 epochs, '\n",
    "                       + 'XGBoost, '\n",
    "                       + '0.6--0.4, '\n",
    "                       + str(normal_in_training_set) + ', '\n",
    "                       + str(original_attack_in_training_set) + ', '\n",
    "                       + str(ga) + ', '\n",
    "                       + str(normal_in_test_set) + ', '\n",
    "                       + str(attacks_in_test_set) + ', '\n",
    "                       + str(CICIDS_test_X.shape[1]) + ', '\n",
    "                       + ' NO AUGMENTATION, '\n",
    "                       + f'{tp}, {tn}, {fp}, {fn}, {accuracy:.4f}, {mcc:.4f}\\n')\n",
    "cicids_competitors.flush()"
   ]
  },
  {
   "cell_type": "code",
   "execution_count": 23,
   "id": "4e06fb3f",
   "metadata": {},
   "outputs": [
    {
     "data": {
      "text/plain": [
       "(0.16666666666666669, (8063, 101))"
      ]
     },
     "execution_count": 23,
     "metadata": {},
     "output_type": "execute_result"
    }
   ],
   "source": [
    "contamination=0.2\n",
    "\n",
    "total=int(x_train.shape[0]*contamination)\n",
    "if(total > generated_attacks.shape[0]):\n",
    "    print(\"contamination is larger than the available attacks.\")\n",
    "    sys.exit(0)\n",
    "    \n",
    "np.random.shuffle(generated_attacks)\n",
    "\n",
    "idx = np.random.randint(generated_attacks.shape[0], size=total)\n",
    "attacks=generated_attacks[idx,:]\n",
    "x_train_augmented=np.vstack((x_train, attacks))\n",
    "y_train_augmented=np.hstack((y_train,np.ones((attacks.shape[0],))))\n",
    "                                                 \n",
    "contamination=contamination/(1+contamination)\n",
    "                                                 \n",
    "contamination, attacks.shape"
   ]
  },
  {
   "cell_type": "code",
   "execution_count": 24,
   "id": "f7744469",
   "metadata": {},
   "outputs": [
    {
     "name": "stdout",
     "output_type": "stream",
     "text": [
      "tp, \ttn, \tfp, \tfn, \taccuracy, \tmcc:\n",
      "64256, \t21976, \t5199, \t68247, \t0.5400368241085184, \t0.22257655115310696\n"
     ]
    }
   ],
   "source": [
    "isol_1=IsolationForest(n_estimators=800,\n",
    "                         max_samples= 400,\n",
    "                         contamination=contamination,\n",
    "                         max_features=1.0,\n",
    "                         bootstrap=False,\n",
    "                         n_jobs=12,warm_start=False).fit(x_train_augmented)\n",
    "\n",
    "predicted=isol_1.predict(x_test)\n",
    "\n",
    "Y=y_test\n",
    "predicted=np.where(predicted==-1, 1, 0)\n",
    "accuracy=accuracy_score(Y, predicted)\n",
    "mcc=matthews_corrcoef(Y, predicted)\n",
    "tn, fp, fn, tp= confusion_matrix(Y, predicted).ravel()\n",
    "\n",
    "print(f'tp, \\ttn, \\tfp, \\tfn, \\taccuracy, \\tmcc:\\n{tp}, \\t{tn}, \\t{fp}, \\t{fn}, \\t{accuracy}, \\t{mcc}')"
   ]
  },
  {
   "cell_type": "code",
   "execution_count": 53,
   "id": "f93e8021",
   "metadata": {},
   "outputs": [],
   "source": [
    "normal_in_training_set=np.unique(x_train.shape[0])\n",
    "original_attack_in_training_set=0\n",
    "normal_in_test_set=np.unique(y_test, return_counts=True)[1][0]\n",
    "attacks_in_test_set=np.unique(y_test, return_counts=True)[1][1]\n",
    "ga=generated_attacks.shape[0]\n",
    "\n",
    "cicids_competitors.write('CICIDS, '\n",
    "                       + 'ARN '\n",
    "                       + '- 200 epochs, '\n",
    "                       + 'Isolation Forest, '\n",
    "                       + '0.6--0.4, '\n",
    "                       + str(normal_in_training_set) + ', '\n",
    "                       + str(original_attack_in_training_set) + ', '\n",
    "                       + str(ga) + ', '\n",
    "                       + str(normal_in_test_set) + ', '\n",
    "                       + str(attacks_in_test_set) + ', '\n",
    "                       + str(CICIDS_test_X.shape[1]) + ', '\n",
    "                       + ' NO AUGMENTATION, '\n",
    "                       + f'{tp}, {tn}, {fp}, {fn}, {accuracy:.4f}, {mcc:.4f}\\n')\n",
    "cicids_competitors.flush()"
   ]
  },
  {
   "cell_type": "code",
   "execution_count": null,
   "id": "6551ba41",
   "metadata": {},
   "outputs": [],
   "source": []
  }
 ],
 "metadata": {
  "kernelspec": {
   "display_name": "attacchi",
   "language": "python",
   "name": "attacchi"
  },
  "language_info": {
   "codemirror_mode": {
    "name": "ipython",
    "version": 3
   },
   "file_extension": ".py",
   "mimetype": "text/x-python",
   "name": "python",
   "nbconvert_exporter": "python",
   "pygments_lexer": "ipython3",
   "version": "3.7.12"
  }
 },
 "nbformat": 4,
 "nbformat_minor": 5
}
